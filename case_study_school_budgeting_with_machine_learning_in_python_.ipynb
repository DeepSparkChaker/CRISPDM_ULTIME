{
  "nbformat": 4,
  "nbformat_minor": 0,
  "metadata": {
    "colab": {
      "name": "case-study-school-budgeting-with-machine-learning-in-python/.ipynb",
      "provenance": []
    },
    "kernelspec": {
      "name": "python3",
      "display_name": "Python 3"
    },
    "language_info": {
      "name": "python"
    }
  },
  "cells": [
    {
      "cell_type": "markdown",
      "metadata": {
        "id": "hQivzG0Ju7WQ"
      },
      "source": [
        " # Introducing the challenge\n",
        "\n",
        "through one of these competitions as a case-study, and we'll show you how the winner achieved the best score. In the course, we'll do some natural language processing, some feature engineering, and boost our computational efficiency. In addition to these pro-tips, we'll look at one of the ways in which we can use data to have a social impact.\n",
        "\n",
        "    . Introducing the challenge\n",
        "\n",
        "\n",
        "School budgets in the United States are incredibly complex, and there are no standards for reporting how money is spent. Schools want to be able to measure their performance--for example, are we spending more on textbooks than our neighboring schools, and is that investment worthwhile? However to do this comparison takes hundreds of hours each year in which analysts hand-categorize each line-item. Our goal is to build a machine learning algorithm that can automate that process. For each line item, we have some text fields that tell us about the expense--for example, a line might say something like \"Algebra books for 8th grade students\". We also have the amount of the expense in dollars. This line item then has a set of labels attached to it. For example, this one might have labels like \"Textbooks,\" \"Math,\" and \"Middle School.\" These labels are our target variable. This is a supervised learning problem where we want to use correctly labeled data to build an algorithm that can suggest labels for unlabeled lines. This is in contrast to an unsupervised learning problem where we don't have labels, and we are using an algorithm to automatically which line-items might go together. For this problem,\n",
        "    . Over 100 target variables!\n",
        "\n",
        "we have over 100 unique target variables that could be attached to a single line item. Because we want to predict a category for each line item, this is a classification problem. This is as opposed to a regression problem where we want to predict a numeric value for a line item--for example, predicting house prices. Here are some of the actual categories that we need to determine: Is this expense for\n",
        "\n",
        "    . Over 100 target variables!\n",
        "\n",
        "pre-kindergarten education (which is important because it has different funding sources)? Or, is there a particular\n",
        ". Over 100 target variables!\n",
        "\n",
        "Student_Type that this expense supports? Overall, there are 9 columns with many different possible categories in each column.\n",
        "    . How we can help\n",
        "\n",
        "If you talk to the people who actually do this work, it is impossible for a human to label these line items with 100% accuracy. To take this into account, we don't want our algorithm to just say \"This line is for textbooks.\" We want it to say: \"It's most likely this line is for textbooks, and I'm 60% sure that it is. If it's not textbooks, I'm 30% sure it's 'office supplies.'\" By making these suggestions, analysts can prioritize their time. This is called a human-in-the-loop machine learning system.\n",
        "    . How we can help\n",
        "\n",
        "We will predict a probability between 0 (the algorithm thinks this label is very unlikely for this line item) and 1 (the algorithm thinks this label is very likely). We'll take a quick break to review and then come back to talk about how to load the data\n",
        "# What category of problem is this?\n",
        "\n",
        "You're no novice to data science, but let's make sure we agree on the basics.\n",
        "\n",
        "As Peter from DrivenData explained in the video, you're going to be working with school district budget data. This data can be classified in many ways according to certain labels, e.g. Function: Career & Academic Counseling, or Position_Type: Librarian.\n",
        "\n",
        "Your goal is to develop a model that predicts the probability for each possible label by relying on some correctly labeled examples.\n",
        "\n",
        "## What type of machine learning problem is this?\n",
        "\n",
        "==> Using correctly labeled budget line items to train means this is a supervised learning problem.\n",
        "\n",
        "## What is the goal of the algorithm?\n",
        "\n",
        "As you know from previous courses, there are different types of supervised machine learning problems. In this exercise you will tell us what type of supervised machine learning problem this is, and why you think so.\n",
        "\n",
        "Remember, your goal is to correctly label budget line items by training a supervised model to predict the probability of each possible label, taking most probable label as the correct label.\n",
        "\n",
        "==> Classification, because predicted probabilities will be used to select a label class."
      ]
    },
    {
      "cell_type": "markdown",
      "metadata": {
        "id": "yR71AaItzuc3"
      },
      "source": [
        "# EDA\n",
        "# Loading the data\n",
        "\n",
        "Now it's time to check out the dataset! You'll use pandas (which has been pre-imported as pd) to load your data into a DataFrame and then do some Exploratory Data Analysis (EDA) of it.\n",
        "\n",
        "The training data is available as TrainingData.csv. Your first task is to load it into a DataFrame in the IPython Shell using pd.read_csv() along with the keyword argument index_col=0.\n",
        "\n",
        "Use methods such as .info(), .head(), and .tail() to explore the budget data and the properties of the features and labels.\n",
        "\n",
        "Some of the column names correspond to features - descriptions of the budget items - such as the Job_Title_Description column. The values in this column tell us if a budget item is for a teacher, custodian, or other employee.\n",
        "\n",
        "Some columns correspond to the budget item labels you will be trying to predict with your model. For example, the Object_Type column describes whether the budget item is related classroom supplies, salary, travel expenses, etc.\n",
        "\n",
        "Use df.info() in the IPython Shell to answer the following questions:\n",
        "\n",
        "    How many rows are there in the training data?\n",
        "    How many columns are there in the training data?\n",
        "    How many non-null entries are in the Job_Title_Description column?\n"
      ]
    },
    {
      "cell_type": "code",
      "metadata": {
        "id": "lB4a2_j4qE9t"
      },
      "source": [
        "df=pd.read_csv('TrainingData.csv')\n",
        "df.head()"
      ],
      "execution_count": null,
      "outputs": []
    },
    {
      "cell_type": "code",
      "metadata": {
        "id": "ozkqeMXw37-G"
      },
      "source": [
        "df.shape\n",
        "df.describe"
      ],
      "execution_count": null,
      "outputs": []
    },
    {
      "cell_type": "markdown",
      "metadata": {
        "id": "jN3aEkzY4NOR"
      },
      "source": [
        "# Summarizing the data\n",
        "\n",
        "You'll continue your EDA in this exercise by computing summary statistics for the numeric data in the dataset. The data has been pre-loaded into a DataFrame called df.\n",
        "You can use df.info() in the IPython Shell to determine which columns of the data are numeric, specifically type float64. You'll notice that there are two numeric columns, called FTE and Total.\n",
        "\n",
        "    FTE: Stands for \"full-time equivalent\". If the budget item is associated to an employee, this number tells us the percentage of full-time that the employee works. A value of 1 means the associated employee works for the school full-time. A value close to 0 means the item is associated to a part-time or contracted employee.\n",
        "    Total: Stands for the total cost of the expenditure. This number tells us how much the budget item cost.\n",
        "\n",
        "After printing summary statistics for the numeric data, your job is to plot a histogram of the non-null FTE column to see the distribution of part-time and full-time employees in the dataset.\n",
        "\n",
        "This course touches on a lot of concepts you may have forgotten, so if you ever need a quick refresher, download the Scikit-Learn Cheat Sheet and keep it handy!"
      ]
    },
    {
      "cell_type": "code",
      "metadata": {
        "id": "EsCOAsQp8Uux"
      },
      "source": [
        "# Print the summary statistics\n",
        "print(df.describe())\n",
        "\n",
        "# Import matplotlib.pyplot as plt\n",
        "import matplotlib.pyplot as plt \n",
        "\n",
        "# Create the histogram\n",
        "h= df['FTE'].dropna()\n",
        "plt.hist(h)\n",
        "# Add title and labels\n",
        "plt.title('Distribution of %full-time \\n employee works')\n",
        "plt.xlabel('% of full-time')\n",
        "plt.ylabel('num employees')\n",
        "\n",
        "# Display the histogram\n",
        "plt.show()"
      ],
      "execution_count": null,
      "outputs": []
    },
    {
      "cell_type": "markdown",
      "metadata": {
        "id": "hDSCKsT08cpw"
      },
      "source": [
        " The high variance in expenditures makes sense (some purchases are cheap some are expensive). Also, it looks like the FTE column is bimodal. That is, there are some part-time and some full-time employees\n",
        " ## Looking at the datatypes\n",
        " ### Exploring datatypes in pandas\n",
        "\n",
        "It's always good to know what datatypes you're working with, especially when the inefficient pandas type object may be involved. Towards that end, let's explore what we have.\n",
        "\n",
        "The data has been loaded into the workspace as df. Your job is to look at the DataFrame attribute .dtypes in the IPython Shell, and call its .value_counts() method in order to answer the question below.\n",
        "\n",
        "Make sure to call df.dtypes.value_counts(), and not df.value_counts()! Check out the difference in the Shell. df.value_counts() will return an error, because it is a Series method, not a DataFrame method.\n",
        "\n",
        "How many columns with dtype object are in the data?"
      ]
    },
    {
      "cell_type": "code",
      "metadata": {
        "id": "NliZ2h128mcG"
      },
      "source": [
        "df.dtypes.value_counts()"
      ],
      "execution_count": null,
      "outputs": []
    },
    {
      "cell_type": "markdown",
      "metadata": {
        "id": "gr171hYIAnxu"
      },
      "source": [
        "Encode the labels as categorical variables\n",
        "\n",
        "Remember, your ultimate goal is to predict the probability that a certain label is attached to a budget line item. You just saw that many columns in your data are the inefficient object type. Does this include the labels you're trying to predict? Let's find out!\n",
        "\n",
        "There are 9 columns of labels in the dataset. Each of these columns is a category that has many possible values it can take. The 9 labels have been loaded into a list called LABELS. In the Shell, check out the type for these labels using df[LABELS].dtypes.\n",
        "\n",
        "You will notice that every label is encoded as an object datatype. Because category datatypes are much more efficient your task is to convert the labels to category types using the .astype() method.\n",
        "\n",
        "Note: .astype() only works on a pandas Series. Since you are working with a pandas DataFrame, you'll need to use the .apply() method and provide a lambda function called categorize_label that applies .astype() to each column, x."
      ]
    },
    {
      "cell_type": "code",
      "metadata": {
        "id": "BZJ8uu02IWeM"
      },
      "source": [
        "# Define the lambda function: categorize_label\n",
        "categorize_label = lambda x: x.astype('category')\n",
        "\n",
        "# Convert df[LABELS] to a categorical type\n",
        "df[LABELS] = df[LABELS].apply(categorize_label)\n",
        "\n",
        "# Print the converted dtypes\n",
        "print(df[LABELS].dtypes)"
      ],
      "execution_count": null,
      "outputs": []
    },
    {
      "cell_type": "markdown",
      "metadata": {
        "id": "LHcqH8muIspH"
      },
      "source": [
        "# Counting unique labels\n",
        "\n",
        "As Peter mentioned in the video, there are over 100 unique labels. In this exercise, you will explore this fact by counting and plotting the number of unique values for each category of label.\n",
        "\n",
        "The dataframe df and the LABELS list have been loaded into the workspace; the LABELS columns of df have been converted to category types.\n",
        "\n",
        "pandas, which has been pre-imported as pd, provides a pd.Series.nunique method for counting the number of unique values in a Series."
      ]
    },
    {
      "cell_type": "code",
      "metadata": {
        "id": "e-rPHn1q8d9X"
      },
      "source": [
        "# Import matplotlib.pyplot\n",
        "import matplotlib.pyplot as plt\n",
        "\n",
        "# Calculate number of unique values for each label: num_unique_labels\n",
        "num_unique_labels = df[LABELS].apply(pd.Series.nunique)\n",
        "\n",
        "# Plot number of unique values for each label\n",
        "num_unique_labels.plot(kind='bar')\n",
        "# Label the axes\n",
        "plt.xlabel('Labels')\n",
        "plt.ylabel('Number of unique values')\n",
        "\n",
        "# Display the plot\n",
        "plt.show()"
      ],
      "execution_count": null,
      "outputs": []
    },
    {
      "cell_type": "markdown",
      "metadata": {
        "id": "3CkNj8_jEl5y"
      },
      "source": [
        "# Evaluaion \n",
        "How do we measure success?\n",
        "\n",
        "The next step is to decide how we decide if our algorithm works. Choosing how to evaluate your machine learning model is one of the most important decisions an analyst makes. The decision balances the real-world use of the algorithm, the mathematical properties of the evaluation function, and the interpretability of the measure.\n",
        "2. How do we measure success?\n",
        "\n",
        "Often we hear the question \"how accurate is your model?\" Accuracy is a simple measure that tells us what percentage of rows we got right. However, sometimes accuracy doesn't tell the whole story. Consider the case of identifying spam emails. Let's say that only 1% of the emails I receive are spam. The other 99% are legitimate emails. I can build a classifier that is 99% accurate just by assuming every message is legitimate, and never marking any message as spam. But this model isn't useful at all because every message, even the spam, ends up in my inbox. The metric we use for this problem is called log loss. Log loss is what is generally called a \"loss function,\" and it is a measure of error. We want our error to be as small as possible, which is the opposite of a metric like accuracy, where we want to maximize the value.\n",
        "3. Log loss binary classification\n",
        "\n",
        "Let's look at how logloss is calculated. It takes the actual value,\n",
        "4. Log loss binary classification\n",
        "\n",
        "1 or 0, and it takes our prediction,\n",
        "5. Log loss binary classification\n",
        "\n",
        "which is a probability between 0 and 1.\n",
        "6. Log loss binary classification\n",
        "\n",
        "The greek letter sigma (which looks like an uppercase E below) indicates that we're taking the sum of the logloss measures for each row of the dataset. We then multiply this sum\n",
        "7. Log loss binary classification\n",
        "\n",
        "by -1 over N, the number of rows, to get a single value for loss. We will unpack this math a little more\n",
        "8. Log loss binary classification: example\n",
        "\n",
        "by looking at an example. Consider the case where the true label is 0, but we predict confidently that the label is 1. In this case, because y is 0, the first term becomes 0. This means the logloss is calculated by (1 - y) times log(1 - p). This simplifies to log(1 - 0-point-9) or log(0-point-1), which is 2-point-3. Now,\n",
        "9. Log loss binary classification: example\n",
        "\n",
        "consider the case that the correct label is 1, but our model is not sure and our prediction is right in the middle (0-point-5). Our logloss is 0-point-69. Since We are trying to minimize log loss, we can see that it is better to be less confident than it is to be confident and wrong.\n",
        "10. Computing log loss with NumPy\n",
        "\n",
        "Here is an implementation of logloss. The most important detail is the clip function which sets a maximum and minimum value for the elements in an array. Since log(0) is negative infinity, we want to offset our predictions ever so slightly from being exactly 1 or exactly 0 so that our score remains a real number. In this example we use the eps variable to be 0-point-00 (thirteen zeros) 1, which is close enough to zero to not effect our overall scores. After adjusting the predictions slightly with clip, we calculate logloss using the formula.\n",
        "11. Computing log loss with NumPy\n",
        "\n",
        "If we call this function on the examples we looked at earlier, we can see that the confident and wrong item returns the expected value of 2-point-3 and the prediction that is right in the middle returns 0-point-69. We have implemented it here to demonstrate how to take a mathematical equation and turn it into a function to use for evaluation, just like you may need to if you were participating in a machine learning competition. \n",
        "##Penalizing highly confident wrong answers\n",
        "\n",
        "As Peter explained in the video, log loss provides a steep penalty for predictions that are both wrong and confident, i.e., a high probability is assigned to the incorrect class.\n",
        "\n",
        "Suppose you have the following 3 examples:\n",
        "\n",
        "Select the ordering of the examples which corresponds to the lowest to highest log loss scores. y is an indicator of whether the example was classified correctly. You shouldn't need to crunch any numbers!\n",
        "==> Lowest: A, Middle: C, Highest: B.\n",
        "Of the two incorrect predictions, B will have a higher log loss because it is confident and wrong.\n",
        "# Computing log loss with NumPy\n",
        "\n",
        "To see how the log loss metric handles the trade-off between accuracy and confidence, we will use some sample data generated with NumPy and compute the log loss using the provided function compute_log_loss(), which Peter showed you in the video.\n",
        "\n",
        "5 one-dimensional numeric arrays simulating different types of predictions have been pre-loaded: actual_labels, correct_confident, correct_not_confident, wrong_not_confident, and wrong_confident.\n",
        "\n",
        "Your job is to compute the log loss for each sample set provided using the compute_log_loss(predicted_values, actual_values). It takes the predicted values as the first argument and the actual values as the second argument."
      ]
    },
    {
      "cell_type": "code",
      "metadata": {
        "id": "tZ1G3y3GF_uO"
      },
      "source": [
        "# Compute and print log loss for 1st case\n",
        "correct_confident_loss = compute_log_loss(correct_confident, actual_labels)\n",
        "print(\"Log loss, correct and confident: {}\".format(correct_confident_loss)) \n",
        "\n",
        "# Compute log loss for 2nd case\n",
        "correct_not_confident_loss = compute_log_loss(correct_not_confident, actual_labels)\n",
        "print(\"Log loss, correct and not confident: {}\".format(correct_not_confident_loss)) \n",
        "\n",
        "# Compute and print log loss for 3rd case\n",
        "wrong_not_confident_loss = compute_log_loss(wrong_not_confident, actual_labels)\n",
        "print(\"Log loss, wrong and not confident: {}\".format(wrong_not_confident_loss)) \n",
        "\n",
        "# Compute and print log loss for 4th case\n",
        "wrong_confident_loss = compute_log_loss(wrong_confident, actual_labels)\n",
        "print(\"Log loss, wrong and confident: {}\".format(wrong_confident_loss)) \n",
        "\n",
        "# Compute and print log loss for actual labels\n",
        "actual_labels_loss = compute_log_loss(actual_labels, actual_labels)\n",
        "print(\"Log loss, actual labels: {}\".format(actual_labels_loss)) \n"
      ],
      "execution_count": null,
      "outputs": []
    },
    {
      "cell_type": "markdown",
      "metadata": {
        "id": "MLo2lIddNThd"
      },
      "source": [
        " It's time to build a model\n",
        "\n",
        "When approaching a machine learning problem, and in particular looking at a dataset from a machine learning competition,\n",
        "2. It's time to build a model\n",
        "\n",
        "it's always a good approach to start with a very simple model. Creating a simple model first helps to give us a sense of how challenging a question actually is. Before we dig deep into complex models where many more things can go wrong, we want to understand how much signal we can pull out using basic methods.\n",
        "3. It's time to build a model\n",
        "\n",
        "We'll start with a model that just uses the numeric data columns. In building our first model, we want to go from raw data to predictions as quickly as possible. In this case, we'll use multi-class logistic regression, which treats each label column as independent. The model will train a logistic regression classifier for each of these columns separately and then use those models to predict whether the label appears or not for any given rows. After writing out our predictions to a CSV, we'll simulate submitting them to the competition and seeing what our score would be.\n",
        "4. Splitting the multi-class dataset\n",
        "\n",
        "In the supervised learning course, we talked about splitting our data into a training set and a test set. However, because of the nature of our data, the simple approach to a train-test split won't work. Some labels that only appear in a small fraction of the dataset. If we split our dataset randomly, we may end up with labels in our test set that never appeared in our training set. Our model won't be able to predict a class that it has never seen before! One approach to this problem is called StratifiedShuffleSplit, which is mentioned in the supervised learning course. However, this scikit-learn function only works if you have a single target variable. In our case, we have many target variables. To work around this issue, we've provided a utility function, multilabel_train_test_split, that will ensure that all of the classes are represented in both the test and training sets. We'll have a link to that code in the exercises if you're curious.\n",
        "5. Splitting the data\n",
        "\n",
        "First, we'll subset our data to just the numeric columns. NUMERIC_COLUMNS is a variable we provide that contains a list of the column names for the columns that are numbers rather than text. Then we'll do a minimal amount of preprocessing where we fill the NaNs that are in the dataset with -1000. In this case, we choose -1000, because we want our algorithm to respond to NaN's differently than 0. We'll create our array of target variables using the get_dummies function in pandas. Again, the get_dummies function takes our categories, and produces a binary indicator for our targets, which is the format that scikit-learn needs to build a model. Finally, we use the multilabel_train_test_split function that is provided to split the dataset in to a training set and a test set.\n",
        "6. Training the model\n",
        "\n",
        "Now we can import our standard LogisticRegression classifier from sklearn dot linear_model. We'll also import the OneVsRestClassifier from the sklearn dot multiclass module. OneVsRest let's us treat each column of y independently. Essentially, it fits a separate classifier for each of the columns. This is just one strategy you can use if you have multiple classes. Take a look at the scikit-learn documentation for other strategies you could consider. Now we can train that classifier by calling fit and passing our features in X_train and the corresponding labels that are in y_train. \n",
        "# Setting up a train-test split in scikit-learn\n",
        "\n",
        "Alright, you've been patient and awesome. It's finally time to start training models!\n",
        "\n",
        "The first step is to split the data into a training set and a test set. Some labels don't occur very often, but we want to make sure that they appear in both the training and the test sets. We provide a function that will make sure at least min_count examples of each label appear in each split: multilabel_train_test_split.\n",
        "\n",
        "Feel free to check out the full code for multilabel_train_test_split here.\n",
        "\n",
        "You'll start with a simple model that uses just the numeric columns of your DataFrame when calling multilabel_train_test_split. The data has been read into a DataFrame df and a list consisting of just the numeric columns is available as NUMERIC_COLUMNS."
      ]
    },
    {
      "cell_type": "code",
      "metadata": {
        "id": "wpkCdjvARJyS"
      },
      "source": [
        "https://github.com/drivendataorg/box-plots-sklearn/blob/master/src/data/multilabel.py"
      ],
      "execution_count": null,
      "outputs": []
    },
    {
      "cell_type": "code",
      "metadata": {
        "id": "D5-84WnjRLI0"
      },
      "source": [
        "import xgboost as xgb\n",
        "from sklearn.datasets import make_multilabel_classification\n",
        "from sklearn.model_selection import train_test_split\n",
        "from sklearn.multioutput import MultiOutputClassifier\n",
        "from sklearn.metrics import accuracy_score\n",
        "\n",
        "# create sample dataset\n",
        "X, y = make_multilabel_classification(n_samples=3000, n_features=45, n_classes=20, n_labels=1,\n",
        "                                      allow_unlabeled=False, random_state=42)\n"
      ],
      "execution_count": null,
      "outputs": []
    },
    {
      "cell_type": "code",
      "metadata": {
        "colab": {
          "base_uri": "https://localhost:8080/"
        },
        "id": "qDPOAvN8SdzP",
        "outputId": "aad0ea0f-23db-46e3-af51-d4857a6f84db"
      },
      "source": [
        "y"
      ],
      "execution_count": null,
      "outputs": [
        {
          "output_type": "execute_result",
          "data": {
            "text/plain": [
              "array([[1, 0, 0, ..., 0, 0, 0],\n",
              "       [0, 1, 0, ..., 0, 0, 0],\n",
              "       [0, 0, 0, ..., 0, 0, 0],\n",
              "       ...,\n",
              "       [0, 1, 0, ..., 0, 0, 0],\n",
              "       [0, 1, 0, ..., 0, 0, 0],\n",
              "       [0, 0, 0, ..., 1, 0, 1]])"
            ]
          },
          "metadata": {
            "tags": []
          },
          "execution_count": 2
        }
      ]
    },
    {
      "cell_type": "code",
      "metadata": {
        "colab": {
          "base_uri": "https://localhost:8080/"
        },
        "id": "1HcCbH5XSiQG",
        "outputId": "25d18589-efca-4626-ba3a-d54fa47e77d1"
      },
      "source": [
        "# split dataset into training and test set\n",
        "X_train, X_test, y_train, y_test = train_test_split(X, y, test_size=0.2, random_state=123)\n",
        "\n",
        "# create XGBoost instance with default hyper-parameters\n",
        "xgb_estimator = xgb.XGBClassifier(objective='binary:logistic')\n",
        "\n",
        "# create MultiOutputClassifier instance with XGBoost model inside\n",
        "multilabel_model = MultiOutputClassifier(xgb_estimator)\n",
        "\n",
        "# fit the model\n",
        "multilabel_model.fit(X_train, y_train)\n",
        "\n",
        "# evaluate on test data\n",
        "print('Accuracy on test data: {:.1f}%'.format(accuracy_score(y_test, multilabel_model.predict(X_test))*100))"
      ],
      "execution_count": null,
      "outputs": [
        {
          "output_type": "stream",
          "text": [
            "Accuracy on test data: 50.2%\n"
          ],
          "name": "stdout"
        }
      ]
    },
    {
      "cell_type": "code",
      "metadata": {
        "id": "hz65Atf2Sior"
      },
      "source": [
        ""
      ],
      "execution_count": null,
      "outputs": []
    },
    {
      "cell_type": "code",
      "metadata": {
        "id": "Uos6YOoFRCTY"
      },
      "source": [
        "# Create the new DataFrame: numeric_data_only\n",
        "numeric_data_only = df[NUMERIC_COLUMNS].fillna(-1000)\n",
        "\n",
        "# Get labels and convert to dummy variables: label_dummies\n",
        "label_dummies = pd.get_dummies(df[LABELS])\n",
        "\n",
        "# Create training and test sets\n",
        "X_train, X_test, y_train, y_test = multilabel_train_test_split(numeric_data_only,\n",
        "                                                               label_dummies,\n",
        "                                                               size=0.2, \n",
        "                                                               seed=123)\n",
        "\n",
        "# Print the info\n",
        "print(\"X_train info:\")\n",
        "print(X_train.info())\n",
        "print(\"\\nX_test info:\")  \n",
        "print(X_test.info())\n",
        "print(\"\\ny_train info:\")  \n",
        "print(y_train.info())\n",
        "print(\"\\ny_test info:\")  \n",
        "print(y_test.info())"
      ],
      "execution_count": null,
      "outputs": []
    },
    {
      "cell_type": "markdown",
      "metadata": {
        "id": "ysIPhB_ZRqfw"
      },
      "source": [
        "# **Training a model**\n",
        "\n",
        "With split data in hand, you're only a few lines away from training a model.\n",
        "\n",
        "In this exercise, you will import the logistic regression and one versus rest classifiers in order to fit a multi-class logistic regression model to the NUMERIC_COLUMNS of your feature data.\n",
        "\n",
        "Then you'll test and print the accuracy with the .score() method to see the results of training.\n",
        "\n",
        "Before you train! Remember, we're ultimately going to be using logloss to score our model, so don't worry too much about the accuracy here. Keep in mind that you're throwing away all of the text data in the dataset - that's by far most of the data! So don't get your hopes up for a killer performance just yet. We're just interested in getting things up and running at the moment.\n",
        "\n",
        "All data necessary to call multilabel_train_test_split() has been loaded into the workspace."
      ]
    },
    {
      "cell_type": "code",
      "metadata": {
        "id": "krTI2T9tRyOO"
      },
      "source": [
        "# Import classifiers\n",
        "from sklearn.linear_model import LogisticRegression\n",
        "from sklearn.multiclass import OneVsRestClassifier\n",
        "\n",
        "# Create the DataFrame: numeric_data_only\n",
        "numeric_data_only = df[NUMERIC_COLUMNS].fillna(-1000)\n",
        "\n",
        "# Get labels and convert to dummy variables: label_dummies\n",
        "label_dummies = pd.get_dummies(df[LABELS])\n",
        "\n",
        "# Create training and test sets\n",
        "X_train, X_test, y_train, y_test = multilabel_train_test_split(numeric_data_only,\n",
        "                                                               label_dummies,\n",
        "                                                               size=0.2, \n",
        "                                                               seed=123)\n",
        "\n",
        "# Instantiate the classifier: clf\n",
        "clf = OneVsRestClassifier(LogisticRegression())\n",
        "\n",
        "# Fit the classifier to the training data\n",
        "clf.fit(X_train,y_train)\n",
        "\n",
        "# Print the accuracy\n",
        "print(\"Accuracy: {}\".format(clf.score(X_test, y_test)))"
      ],
      "execution_count": null,
      "outputs": []
    },
    {
      "cell_type": "markdown",
      "metadata": {
        "id": "Utnb4d-jCHus"
      },
      "source": [
        "The good news is that your workflow didn't cause any errors. The bad news is that your model scored the lowest possible accuracy: 0.0! But hey, you just threw away ALL of the text data in the budget. Later, you won't. Before you add the text data, let's see how the model does when scored by log loss.\n",
        "# Making predictions\n",
        "Making predictions\n",
        "\n",
        "Once our classifier is trained, we can use it to make predictions on new data. We could use our test set that we've withheld, but we want to simulate actually competing in a data science competition,\n",
        "2. Predicting on holdout data\n",
        "\n",
        "so we will make predictions on the holdout set that the competition provides. As we did with our training data, we load the holdout data using the read_csv function from pandas. We then perform the same simple preprocessing we used earlier. First, we select just the numeric columns. Then we use fillna to replace NaN values with -1000.Finally, we call the predict_proba method on our trained classifier. Remember, we want to predict probabilities for each label, not just whether or not the label appears. If we simply used the predict method instead, we would end up with a 0 or 1 in every case. Because log loss penalizes you for being confident and wrong, the score for this submission would be significantly worse than if we use predict_proba.\n",
        "3. Submitting your predictions as a csv\n",
        "\n",
        "In data science competitions, it's a standard practice to write your predictions as a CSV and then upload that CSV to the competition platform. From the competition documentation, we can see that the submission format for this competition expects a dataframe that has each of the individual labels as the column headers and probabilities for each of the columns. The to_csv function on a DataFrame, will take our predictions and write them out to a file. One quick note: you'll notice that our columns have the\n",
        "4. Submitting your predictions as a csv\n",
        "\n",
        "original column name separated from the value by two underscores. This is because some of the column names already contained single a underscore.\n",
        "5. Format and submit predictions\n",
        "\n",
        "The predictions that were generated by predict_proba is just an array of values. It doesn't have column names or an index like our submission format does. We'll fix this by turning those values into a DataFrame. To get the column names, we use get_dummies on our target variables and then borrow those column names for our new dataframe. Our index will be the same index that we read into pandas with read_csv, and the data is the predictions themselves. As we noted in the previous slide, we want to separate the original column names from the column values with a double underscore when we call get_dummies. To do this, we will use the keyword argument prefix_sep equals double underscore with the get_dummies function. Finally, we can call to_csv and pass the filename of the file we want to write out to disk. We can call the score_submission function that is provided to see how our submission would have scored in the competition!\n",
        "6. DrivenData leaderboard\n",
        "\n",
        "On the DrivenData website, you would submit this CSV file of predictions. We would generate a score for you on the holdout set and then post that score to the leaderboard. Here is an example of the leaderboard from this competition. As the competition proceeds, people make more and more submissions and their place on the leaderboard changes as they build better and better models. \n",
        "# Use your model to predict values on holdout data\n",
        "\n",
        "You're ready to make some predictions! Remember, the train-test-split you've carried out so far is for model development. The original competition provides an additional test set, for which you'll never actually see the correct labels. This is called the \"holdout data.\"\n",
        "\n",
        "The point of the holdout data is to provide a fair test for machine learning competitions. If the labels aren't known by anyone but DataCamp, DrivenData, or whoever is hosting the competition, you can be sure that no one submits a mere copy of labels to artificially pump up the performance on their model.\n",
        "\n",
        "Remember that the original goal is to predict the probability of each label. In this exercise you'll do just that by using the .predict_proba() method on your trained model.\n",
        "\n",
        "First, however, you'll need to load the holdout data, which is available in the workspace as the file HoldoutData.csv"
      ]
    },
    {
      "cell_type": "code",
      "metadata": {
        "id": "VQpVdBrbCGms"
      },
      "source": [
        "# Instantiate the classifier: clf\n",
        "clf = OneVsRestClassifier(LogisticRegression())\n",
        "\n",
        "# Fit it to the training data\n",
        "clf.fit(X_train, y_train)\n",
        "\n",
        "# Load the holdout data: holdout\n",
        "holdout = pd.read_csv('HoldoutData.csv',index_col=0)\n",
        "\n",
        "# Generate predictions: predictions\n",
        "predictions = clf.predict_proba(holdout[NUMERIC_COLUMNS].fillna(-1000))"
      ],
      "execution_count": null,
      "outputs": []
    },
    {
      "cell_type": "markdown",
      "metadata": {
        "id": "2r5KF2tkB5GI"
      },
      "source": [
        " Now you can write the predictions to a .csv and submit for scoring!\n",
        "# Writing out your results to a csv for submission\n",
        "\n",
        "At last, you're ready to submit some predictions for scoring. In this exercise, you'll write your predictions to a .csv using the .to_csv() method on a pandas DataFrame. Then you'll evaluate your performance according to the LogLoss metric discussed earlier!\n",
        "\n",
        "You'll need to make sure your submission obeys the correct format.\n",
        "\n",
        "To do this, you'll use your predictions values to create a new DataFrame, prediction_df.\n",
        "\n",
        "Interpreting LogLoss & Beating the Benchmark:\n",
        "\n",
        "When interpreting your log loss score, keep in mind that the score will change based on the number of samples tested. To get a sense of how this very basic model performs, compare your score to the DrivenData benchmark model performance: 2.0455, which merely submitted uniform probabilities for each class.\n",
        "\n",
        "Remember, the lower the log loss the better. Is your model's log loss lower than 2.0455?"
      ]
    },
    {
      "cell_type": "code",
      "metadata": {
        "id": "2GOV446uB4g2"
      },
      "source": [
        "# Generate predictions: predictions\n",
        "predictions = clf.predict_proba(holdout[NUMERIC_COLUMNS].fillna(-1000))\n",
        "\n",
        "# Format predictions in DataFrame: prediction_df\n",
        "prediction_df = pd.DataFrame(columns=pd.get_dummies(df[LABELS]).columns,\n",
        "                             index=holdout.index,\n",
        "                             data=predictions)\n",
        "\n",
        "\n",
        "# Save prediction_df to csv\n",
        "prediction_df.to_csv('predictions.csv')\n",
        "\n",
        "# Submit the predictions for scoring: score\n",
        "score = score_submission(pred_path='predictions.csv')\n",
        "\n",
        "# Print score\n",
        "print('Your model, trained with numeric data only, yields logloss score: {}'.format(score))"
      ],
      "execution_count": null,
      "outputs": []
    },
    {
      "cell_type": "markdown",
      "metadata": {
        "id": "g5moXMNLG_zd"
      },
      "source": [
        "# A very brief introduction to NLP\n",
        "A very brief introduction to NLP\n",
        "\n",
        "Some of our data comes in the form or freefrom text. When we have data that is text, we often want to process this text to create features for our algorithms. This is called Natural Language Processing, or NLP. We'll cover a couple of basic techniques for processing text data.\n",
        "2. A very brief introduction to NLP\n",
        "\n",
        "Data for natural language processing can be text, as it is in our case, entire documents (for example, magazine articles or emails), or transcriptions of human speech (like the script I'm reading for this video!). The first step in processing this kind of data is called \"tokenization\". Tokenization is the process of splitting a long string into segments. Usually, this means taking a string and splitting it into a list of strings where we have one string for each word. For example, we might split the string \"Natural Language Processing\" into a list of three separate tokens: \"Natural,\" \"Language,\" and \"Processing\".\n",
        "3. Tokens and token patterns\n",
        "\n",
        "Let's take a look at an example of actual data from our school budget dataset. We have the full string \"PETRO-VEND FUEL AND FLUIDS.\"\n",
        "4. Tokens and token patterns\n",
        "\n",
        "If we want to tokenize on whitespace, that is split into words every time there is a space, tab, or return in the text,\n",
        "5. Tokens and token patterns\n",
        "\n",
        "we end up with 4 tokens. The token\n",
        "6. Tokens and token patterns\n",
        "\n",
        "\"PETRO-VEND,\" the token\n",
        "7. Tokens and token patterns\n",
        "\n",
        "\"FUEL,\" the token\n",
        "8. Tokens and token patterns\n",
        "\n",
        "\"AND,\" and the token\n",
        "9. Tokens and token patterns\n",
        "\n",
        "\"FLUIDS.\" For some datasets, we may want to split words based on other characters than whitespace. For example, in this dataset we may observe that often we have words that are combined with a hyphen, like\n",
        "10. Tokens and token patterns\n",
        "\n",
        "\"PETRO-VEND.\" We can opt in this case to tokenize on\n",
        "11. Tokens and token patterns\n",
        "\n",
        "whitespace and punctuation. Here we break into tokens every time we see a space or any mark of punctuation. In this case, we end up\n",
        "12. Tokens and token patterns\n",
        "\n",
        "with 5 tokens: The token\n",
        "13. Tokens and token patterns\n",
        "\n",
        "\"PETRO,\" the token\n",
        "14. Tokens and token patterns\n",
        "\n",
        "\"VEND,\" the token\n",
        "15. Tokens and token patterns\n",
        "\n",
        "\"FUEL,\" the token\n",
        "16. Tokens and token patterns\n",
        "\n",
        "\"AND,\" and the token\n",
        "17. Tokens and token patterns\n",
        "\n",
        "\"FLUIDS.\" Now that we have our 5 tokens, we want to use them as part of our machine learning algorithm. Often,\n",
        "18. Bag of words representation\n",
        "\n",
        "the first way to do this is to simply count the number of times that a particular token appears in a row. This is called a \"bag of words\" representation, because you can imagine our vocabulary as a bag of all of our words, and we just count the number of times a particular word was pulled out of that bag. If you're following along closely, you may have noticed that this approach discards information about word order. That is, the phrase \"red, not blue\" would be treated the same as \"blue, not red.\" A slightly more sophisticated approach is to create what are called\n",
        "19. 1-gram, 2-gram, …, n-gram\n",
        "\n",
        "\"n-grams.\" In addition to a column for every token we see, which is called\n",
        "20. 1-gram, 2-gram, ..., n-gram\n",
        "\n",
        "a \"1-gram,\" we may have a column for every ordered pair of two words. In that case, we'd have a column for\n",
        "21. 1-gram, 2-gram, …, n-gram\n",
        "\n",
        "\"PETRO-VEND,\" a column for\n",
        "22. 1-gram, 2-gram, …, n-gram\n",
        "\n",
        "\"VEND FUEL,\" a column for\n",
        "23. 1-gram, 2-gram, …, n-gram\n",
        "\n",
        "\"FUEL AND,\" and a column for\n",
        "24. 1-gram, 2-gram, …, n-gram\n",
        "\n",
        "\"AND FLUIDS.\" These are called\n",
        "25. 1-gram, 2-gram, …, n-gram\n",
        "\n",
        "2-grams (or bi-grams). N can be any number, for example, we may also include\n",
        "26. 1-gram, 2-gram, …, n-gram\n",
        "\n",
        "3-grams (or tri-grams) in this example. There are three columns for trigrams: one column for\n",
        "27. 1-gram, 2-gram, …, n-gram\n",
        "\n",
        "\"PETRO-VEND FUEL,\" one for\n",
        "28. 1-gram, 2-gram, …, n-gram\n",
        "\n",
        "\"VEND FUEL AND,\" and one for\n",
        "29. 1-gram, 2-gram, …, n-gram\n",
        "\n",
        "\"FUEL AND FLUIDS.\" \n",
        "# Representing text numerically\n",
        "## Creating a bag-of-words in scikit-learn\n",
        "\n",
        "In this exercise, you'll study the effects of tokenizing in different ways by comparing the bag-of-words representations resulting from different token patterns.\n",
        "\n",
        "You will focus on one feature only, the Position_Extra column, which describes any additional information not captured by the Position_Type label.\n",
        "\n",
        "For example, in the Shell you can check out the budget item in row 8960 of the data using df.loc[8960]. Looking at the output reveals that this Object_Description is overtime pay. For who? The Position Type is merely \"other\", but the Position Extra elaborates: \"BUS DRIVER\". Explore the column further to see more instances. It has a lot of NaN values.\n",
        "\n",
        "Your task is to turn the raw text in this column into a bag-of-words representation by creating tokens that contain only alphanumeric characters.\n",
        "\n",
        "For comparison purposes, the first 15 tokens of vec_basic, which splits df.Position_Extra into tokens when it encounters only whitespace characters, have been printed along with the length of the representation."
      ]
    },
    {
      "cell_type": "code",
      "metadata": {
        "id": "iMSW1ySEG_SQ"
      },
      "source": [
        "# Import CountVectorizer\n",
        "from sklearn.feature_extraction.text import CountVectorizer\n",
        "\n",
        "# Create the token pattern: TOKENS_ALPHANUMERIC\n",
        "TOKENS_ALPHANUMERIC = '[A-Za-z0-9]+(?=\\\\s+)'\n",
        "\n",
        "# Fill missing values in df.Position_Extra\n",
        "df.Position_Extra=df.Position_Extra.fillna('')\n",
        "\n",
        "# Instantiate the CountVectorizer: vec_alphanumeric\n",
        "vec_alphanumeric = CountVectorizer(token_pattern=TOKENS_ALPHANUMERIC)\n",
        "\n",
        "# Fit to the data\n",
        "vec_alphanumeric.fit(df.Position_Extra)\n",
        "\n",
        "# Print the number of tokens and first 15 tokens\n",
        "msg = \"There are {} tokens in Position_Extra if we split on non-alpha numeric\"\n",
        "print(msg.format(len(vec_alphanumeric.get_feature_names())))\n",
        "print(vec_alphanumeric.get_feature_names()[:15])\n",
        "\n",
        "\n"
      ],
      "execution_count": null,
      "outputs": []
    },
    {
      "cell_type": "markdown",
      "metadata": {
        "id": "fW8sdax1NyF_"
      },
      "source": [
        "Treating only alpha-numeric characters as tokens gives you a smaller number of more meaningful tokens. You've got bag-of-words in the bag!"
      ]
    },
    {
      "cell_type": "code",
      "metadata": {
        "id": "Dvbm59Q3Ncno"
      },
      "source": [
        "# Define combine_text_columns()\n",
        "def combine_text_columns(data_frame, to_drop=NUMERIC_COLUMNS + LABELS):\n",
        "    \"\"\" converts all text in each row of data_frame to single vector \"\"\"\n",
        "    \n",
        "    # Drop non-text columns that are in the df\n",
        "    to_drop = set(to_drop) & set(data_frame.columns.tolist())\n",
        "    text_data = data_frame.drop(to_drop, axis=1)\n",
        "    \n",
        "    # Replace nans with blanks\n",
        "    text_data.fillna(\"\", inplace=True)\n",
        "    \n",
        "    # Join all text items in a row that have a space in between\n",
        "    return text_data.apply(lambda x: \" \".join(x), axis=1)"
      ],
      "execution_count": null,
      "outputs": []
    },
    {
      "cell_type": "markdown",
      "metadata": {
        "id": "J5q_-kITXyRo"
      },
      "source": [
        "# What's in a token?\n",
        "\n",
        "Now you will use combine_text_columns to convert all training text data in your DataFrame to a single vector that can be passed to the vectorizer object and made into a bag-of-words using the .fit_transform() method.\n",
        "\n",
        "You'll compare the effect of tokenizing using any non-whitespace characters as a token and using only alphanumeric characters as a token."
      ]
    },
    {
      "cell_type": "code",
      "metadata": {
        "id": "Scau9K0oXy5l"
      },
      "source": [
        "# Import the CountVectorizer\n",
        "from sklearn.feature_extraction.text import CountVectorizer\n",
        "\n",
        "# Create the basic token pattern\n",
        "TOKENS_BASIC = '\\\\S+(?=\\\\s+)'\n",
        "\n",
        "# Create the alphanumeric token pattern\n",
        "TOKENS_ALPHANUMERIC = '[A-Za-z0-9]+(?=\\\\s+)'\n",
        "\n",
        "# Instantiate basic CountVectorizer: vec_basic\n",
        "vec_basic =CountVectorizer(token_pattern=TOKENS_BASIC)\n",
        "\n",
        "# Instantiate alphanumeric CountVectorizer: vec_alphanumeric\n",
        "vec_alphanumeric = CountVectorizer(token_pattern=TOKENS_ALPHANUMERIC)\n",
        "# Create the text vector\n",
        "text_vector = combine_text_columns(df)\n",
        "\n",
        "# Fit and transform vec_basic\n",
        "vec_basic.fit_transform(text_vector)\n",
        "\n",
        "# Print number of tokens of vec_basic\n",
        "print(\"There are {} tokens in the dataset\".format(len(vec_basic.get_feature_names())))\n",
        "\n",
        "# Fit and transform vec_alphanumeric\n",
        "vec_alphanumeric.fit_transform(text_vector)\n",
        "\n",
        "# Print number of tokens of vec_alphanumeric\n",
        "print(\"There are {} alpha-numeric tokens in the dataset\".format(len(vec_alphanumeric.get_feature_names())))"
      ],
      "execution_count": null,
      "outputs": []
    },
    {
      "cell_type": "markdown",
      "metadata": {
        "id": "BFZ_xiU3arMw"
      },
      "source": [
        "you're on your way to complete Data Domination! Notice that tokenizing on alpha-numeric tokens reduced the number of tokens, just as in the last exercise. We'll keep this in mind when building a better model with the Pipeline object next. See you in the next chapter!\n",
        "# Pipelines, feature & text preprocessing :\n",
        "Pipelines, feature & text preprocessing\n",
        "\n",
        "You've submitted your first simple model. Now it's time to combine what we've learned about NLP with our model pipeline and incorporate the text data into our algorithm.\n",
        "2. The pipeline workflow\n",
        "\n",
        "The supervised learning course introduced pipelines, which are a repeatable way to go from raw data to a trained machine learning model. The scikit-learn Pipeline object takes a sequential list of steps where the output of one step is the input to the next. Each step is represented with a name for the step, that is simply a string, and an object that implements the fit and the transform methods. A good example is the CountVectorizer that we used earlier. As we'll see Pipelines are a very flexible way to represent your workflow. In fact, you can even have a sub-pipeline as one of the steps! The beauty of the Pipeline is that it encapsulates every transformation from raw data to a trained model.\n",
        "3. Instantiate simple pipeline with one step\n",
        "\n",
        "After importing the relevant modules, we'll start with a one step pipeline. Although we don't need a pipeline for a single step, this exercise will get us familiar with the syntax. Remember, we create a Pipeline by passing it a series of named steps. In this case the name is the string 'clf', and the step is the one-vs-rest logistic regression classifier we created earlier.\n",
        "4. Train and test with sample numeric data\n",
        "\n",
        "The sample dataset we've been working with has numeric data in the numeric columns and the with missing column. We'll start by building a model to predict the label column with the numeric data.\n",
        "5. Train and test with sample numeric data\n",
        "\n",
        "First, we'll use the train_test split function from sklearn dot model_selection. Our X will just be the numeric column, and our Y will be the dummy encoding of the label column. We'll call the fit method on our Pipeline, just like a normal classifier in sklearn. We can see that it returns a Pipeline that has one step to do our logistic regression.\n",
        "6. Train and test with sample numeric data\n",
        "\n",
        "By using the score function on our pipeline, we can see how our Pipeline performs on the test set. The default scoring method for this classifier is accuracy. That's good enough for our sample dataset.\n",
        "7. Adding more steps to the pipeline\n",
        "\n",
        "Let's add the with_missing column to our training set. Oops! Now when we call fit, we see a value error that explains that our input has NaN values.\n",
        "8. Preprocessing numeric features with missing data\n",
        "\n",
        "To address this, we'll add an Imputer to our pipeline, which will fill in the NaN values. To do so, we add a step to the Pipeline with the name 'imp' and an Imputer object. The default imputation in scikit-learn is to fill missing values with the mean of the column in question. You can look at the documentation of the Imputer object to see other possible imputation strategies.\n",
        "9. Preprocessing numeric features with missing data\n",
        "\n",
        "We can call fit and score on the new pipeline, just like we did before. But, in this case our model also includes the column with_missing which had NaN values that were imputed. "
      ]
    },
    {
      "cell_type": "code",
      "metadata": {
        "id": "4Vb61cFjar2j"
      },
      "source": [
        "# Import Pipeline\n",
        "from sklearn.pipeline import Pipeline\n",
        "# Import other necessary modules\n",
        "from sklearn.model_selection import train_test_split\n",
        "from sklearn.linear_model import LogisticRegression\n",
        "from sklearn.multiclass import OneVsRestClassifier\n",
        "\n",
        "# Split and select numeric data only, no nans \n",
        "X_train, X_test, y_train, y_test = train_test_split(sample_df[['numeric']],\n",
        "                                                    pd.get_dummies(sample_df['label']), \n",
        "                                                    random_state=22)\n",
        "\n",
        "# Instantiate Pipeline object: pl\n",
        "pl = Pipeline([\n",
        "        ('clf', OneVsRestClassifier(LogisticRegression()))\n",
        "    ])\n",
        "\n",
        "# Fit the pipeline to the training data\n",
        "pl.fit(X_train,y_train)\n",
        "\n",
        "# Compute and print accuracy\n",
        "accuracy = pl.score(X_train, y_test)\n",
        "print(\"\\nAccuracy on sample data - numeric, no nans: \", accuracy)"
      ],
      "execution_count": null,
      "outputs": []
    },
    {
      "cell_type": "markdown",
      "metadata": {
        "id": "Yp0cPtnEezO9"
      },
      "source": [
        "now it's time to incorporate numeric data with missing values by adding a preprocessing step!\n",
        "# Preprocessing numeric features\n",
        "\n",
        "What would have happened if you had included the with 'with_missing' column in the last exercise? Without imputing missing values, the pipeline would not be happy (try it and see). So, in this exercise you'll improve your pipeline a bit by using the Imputer() imputation transformer from scikit-learn to fill in missing values in your sample data.\n",
        "\n",
        "By default, the imputer transformer replaces NaNs with the mean value of the column. That's a good enough imputation strategy for the sample data, so you won't need to pass anything extra to the imputer.\n",
        "\n",
        "After importing the transformer, you will edit the steps list used in the previous exercise by inserting a (name, transform) tuple. Recall that steps are processed sequentially, so make sure the new tuple encoding your preprocessing step is put in the right place.\n",
        "\n",
        "The sample_df is in the workspace, in case you'd like to take another look. Make sure to select both numeric columns- in the previous exercise we couldn't use with_missing because we had no preprocessing step"
      ]
    },
    {
      "cell_type": "code",
      "metadata": {
        "id": "Y2qCuJajey1Y"
      },
      "source": [
        "# Import the Imputer object\n",
        "from sklearn.preprocessing import Imputer\n",
        "\n",
        "# Create training and test sets using only numeric data\n",
        "X_train, X_test, y_train, y_test = train_test_split(sample_df[[\"numeric\", \"with_missing\"]],\n",
        "                                                    pd.get_dummies(sample_df['label']), \n",
        "                                                    random_state=456)\n",
        "\n",
        "# Insantiate Pipeline object: pl\n",
        "pl = Pipeline([\n",
        "        (\"imp\", Imputer()),\n",
        "        ('clf', OneVsRestClassifier(LogisticRegression()))\n",
        "    ])\n",
        "\n",
        "# Fit the pipeline to the training data\n",
        "pl.fit(X_train,y_train)\n",
        "\n",
        "# Compute and print accuracy\n",
        "accuracy = pl.score(X_test,y_test)\n",
        "print(\"\\nAccuracy on sample data - all numeric, incl nans: \", accuracy)"
      ],
      "execution_count": null,
      "outputs": []
    },
    {
      "cell_type": "markdown",
      "metadata": {
        "id": "jbEYk17DskB2"
      },
      "source": [
        "# Preprocessing text features\n",
        "\n",
        "Here, you'll perform a similar preprocessing pipeline step, only this time you'll use the text column from the sample data.\n",
        "\n",
        "To preprocess the text, you'll turn to CountVectorizer() to generate a bag-of-words representation of the data, as in Chapter 2. Using the default arguments, add a (step, transform) tuple to the steps list in your pipeline.\n",
        "\n",
        "Make sure you select only the text column for splitting your training and test sets.\n",
        "\n",
        "As usual, your sample_df is ready and waiting in the workspace.\n",
        "# SO important how to preprocess data : \n",
        "\n",
        "https://developpaper.com/pipeline-columntransformer-and-featureunion/"
      ]
    },
    {
      "cell_type": "markdown",
      "metadata": {
        "id": "zum9CPtZsj2F"
      },
      "source": [
        ""
      ]
    },
    {
      "cell_type": "code",
      "metadata": {
        "id": "RV9sYy3kovka"
      },
      "source": [
        "# Import the CountVectorizer\n",
        "from sklearn.feature_extraction.text import CountVectorizer \n",
        "# Split out only the text data\n",
        "X_train, X_test, y_train, y_test = train_test_split(sample_df['text'],\n",
        "                                                    pd.get_dummies(sample_df['label']), \n",
        "                                                    random_state=456)\n",
        "\n",
        "# Instantiate Pipeline object: pl\n",
        "pl = Pipeline([\n",
        "        ('vec', CountVectorizer()),\n",
        "        ('clf', OneVsRestClassifier(LogisticRegression()))\n",
        "    ])\n",
        "\n",
        "# Fit to the training data\n",
        "pl.fit(X_train,y_train)\n",
        "\n",
        "# Compute and print accuracy\n",
        "accuracy =pl.score(X_test, y_test)\n",
        "print(\"\\nAccuracy on sample data - just text data: \", accuracy)\n"
      ],
      "execution_count": null,
      "outputs": []
    },
    {
      "cell_type": "markdown",
      "metadata": {
        "id": "0Hy0qzoPuw0c"
      },
      "source": [
        "# Multiple types of processing: FunctionTransformer\n",
        "\n",
        "The next two exercises will introduce new topics you'll need to make your pipeline truly excel.\n",
        "\n",
        "Any step in the pipeline must be an object that implements the fit and transform methods. The FunctionTransformer creates an object with these methods out of any Python function that you pass to it. We'll use it to help select subsets of data in a way that plays nicely with pipelines.\n",
        "\n",
        "You are working with numeric data that needs imputation, and text data that needs to be converted into a bag-of-words. You'll create functions that separate the text from the numeric variables and see how the .fit() and .transform() methods work."
      ]
    },
    {
      "cell_type": "code",
      "metadata": {
        "id": "4VfpHaRLovOg"
      },
      "source": [
        "# Import FunctionTransformer\n",
        "from sklearn.preprocessing import FunctionTransformer\n",
        "\n",
        "# Obtain the text data: get_text_data\n",
        "get_text_data = FunctionTransformer(lambda x: x['text'], validate=False)\n",
        "\n",
        "# Obtain the numeric data: get_numeric_data\n",
        "get_numeric_data = FunctionTransformer(lambda x: x[['numeric', 'with_missing']], validate=False)\n",
        "\n",
        "# Fit and transform the text data: just_text_data\n",
        "just_text_data = get_text_data.fit_transform(sample_df)\n",
        "\n",
        "# Fit and transform the numeric data: just_numeric_data\n",
        "just_numeric_data = get_numeric_data.fit_transform(sample_df)\n",
        "\n",
        "# Print head to check results\n",
        "print('Text Data')\n",
        "print(just_text_data.head())\n",
        "print('\\nNumeric Data')\n",
        "print(just_numeric_data.head())"
      ],
      "execution_count": null,
      "outputs": []
    },
    {
      "cell_type": "markdown",
      "metadata": {
        "id": "tDqf4pEhv-jU"
      },
      "source": [
        "You can see in the shell that fit and transform are now available to the selectors. Let's put the selectors to work!\n",
        "# Multiple types of processing: FeatureUnion\n",
        "\n",
        "Now that you can separate text and numeric data in your pipeline, you're ready to perform separate steps on each by nesting pipelines and using FeatureUnion().\n",
        "\n",
        "These tools will allow you to streamline all preprocessing steps for your model, even when multiple datatypes are involved. Here, for example, you don't want to impute our text data, and you don't want to create a bag-of-words with our numeric data. Instead, you want to deal with these separately and then join the results together using FeatureUnion().\n",
        "\n",
        "In the end, you'll still have only two high-level steps in your pipeline: preprocessing and model instantiation. The difference is that the first preprocessing step actually consists of a pipeline for numeric data and a pipeline for text data. The results of those pipelines are joined using FeatureUnion()."
      ]
    },
    {
      "cell_type": "code",
      "metadata": {
        "id": "9SfIcIGwv79t"
      },
      "source": [
        "# Import FeatureUnion\n",
        "from sklearn.pipeline import FeatureUnion\n",
        "\n",
        "# Split using ALL data in sample_df\n",
        "X_train, X_test, y_train, y_test = train_test_split(sample_df[['numeric', 'with_missing', 'text']],\n",
        "                                                    pd.get_dummies(sample_df['label']), \n",
        "                                                    random_state=22)\n",
        "\n",
        "# Create a FeatureUnion with nested pipeline: process_and_join_features\n",
        "process_and_join_features = FeatureUnion(\n",
        "            transformer_list = [\n",
        "                ('numeric_features', Pipeline([\n",
        "                    ('selector', get_numeric_data),\n",
        "                    ('imputer', Imputer())\n",
        "                ])),\n",
        "                ('text_features', Pipeline([\n",
        "                    ('selector', get_text_data),\n",
        "                    ('vectorizer', CountVectorizer())\n",
        "                ]))\n",
        "             ]\n",
        "        )\n",
        "\n",
        "# Instantiate nested pipeline: pl\n",
        "pl = Pipeline([\n",
        "        ('union', process_and_join_features),\n",
        "        ('clf', OneVsRestClassifier(LogisticRegression()))\n",
        "    ])\n",
        "\n",
        "\n",
        "# Fit pl to the training data\n",
        "pl.fit(X_train, y_train)\n",
        "\n",
        "# Compute and print accuracy\n",
        "accuracy = pl.score(X_test, y_test)\n",
        "print(\"\\nAccuracy on sample data - all data: \", accuracy)\n"
      ],
      "execution_count": null,
      "outputs": []
    },
    {
      "cell_type": "markdown",
      "metadata": {
        "id": "Jeo2YV5I0Psp"
      },
      "source": [
        " # Choosing a classification model\n",
        "\n",
        "Now that we understand how to pull together text and numeric data into a single machine learning pipeline, we'll return to talking about our school budget dataset. In the sample dataset, there was only one text column. This is the format that CountVectorizer expects.\n",
        "2. Main dataset: lots of text\n",
        "\n",
        "However, our main dataset has 14 text columns. In an interactive exercise during our NLP chapter we wrote a function combine_text_columns that put together all of the text columns into a single column. We'll re-use this function as part of our Pipeline to process the text in the budget dataset.\n",
        "3. Using pipeline with the main dataset\n",
        "\n",
        "Again, as we did in the last chapter, we'll use the get_dummies function from pandas to create our label array, and we'll also create our train-test split using the multilabel_train_test_split function. Hopefully, this is starting to feel familiar.\n",
        "4. Using pipeline with the main dataset\n",
        "\n",
        "Now we'll create a pipeline for working with our main dataset. The beauty of this code, is that it has one change from the code we used for the sample dataset: we create a FunctionTransformer object using our combine_text_columns function instead of the simple selection function we used in the sample dataset. Other than this one change, the pipeline that processes the text, imputes the numeric columns, joins those results together and then fits a multilabel logistic regression remains the same.\n",
        "5. Performance using main dataset\n",
        "\n",
        "We can now fit this Pipeline on the school budget dataset. As part of our exercises, we'll look at the results of this pipeline. Now we have infrastructure for processing our features and fitting a model. This infrastructure allows us to easily experiment with adapting different parts of the pipeline. Part of your challenge in the exercises will be to improve the performance of the pipeline.\n",
        "6. Flexibility of model step\n",
        "\n",
        "For example, we can easily experiment with different classes of models. All of our Pipeline code can stay the same, but we can update the last step to be a different class of model instead of LogisticRegression. For example, we could try a RandomForestClassifier, NaiveBayesClassifier, or a KNeighborsClassifier instead. In fact, you can look at the scikit-learn documentation and choose any model class you want!\n",
        "7. Easily try new models using pipeline\n",
        "\n",
        "Here's an example of how simple it is to change the classification method in our scikit-learn Pipeline. We simply import a different class of model--in this case, we'll use a RandomForestClassifier. Then, the only other line that needs to change is the one that defines the classifier inside the Pipeline. This makes it very simple for us to try a large number of different model classes and determine which one is the best for the problem that we're working on. \n",
        "# Using FunctionTransformer on the main dataset\n",
        "\n",
        "In this exercise you're going to use FunctionTransformer on the primary budget data, before instantiating a multiple-datatype pipeline in the next exercise.\n",
        "\n",
        "Recall from Chapter 2 that you used a custom function combine_text_columns to select and properly format text data for tokenization; it is loaded into the workspace and ready to be put to work in a function transformer!\n",
        "\n",
        "Concerning the numeric data, you can use NUMERIC_COLUMNS, preloaded as usual, to help design a subset-selecting lambda function.\n",
        "\n",
        "You're all finished with sample data. The original df is back in the workspace, ready to use."
      ]
    },
    {
      "cell_type": "code",
      "metadata": {
        "id": "CtmO0Cot0PUF"
      },
      "source": [
        "# Import FunctionTransformer\n",
        "from sklearn.preprocessing import FunctionTransformer\n",
        "\n",
        "# Get the dummy encoding of the labels\n",
        "dummy_labels = pd.get_dummies(df[LABELS])\n",
        "\n",
        "# Get the columns that are features in the original df\n",
        "NON_LABELS = [c for c in df.columns if c not in LABELS]\n",
        "\n",
        "# Split into training and test sets\n",
        "X_train, X_test, y_train, y_test = multilabel_train_test_split(df[NON_LABELS],\n",
        "                                                               dummy_labels,\n",
        "                                                               0.2, \n",
        "                                                               seed=123)\n",
        "\n",
        "# Preprocess the text data: get_text_data\n",
        "get_text_data = FunctionTransformer(combine_text_columns,validate=False)\n",
        "\n",
        "# Preprocess the numeric data: get_numeric_data\n",
        "get_numeric_data = FunctionTransformer(lambda x: x[NUMERIC_COLUMNS], validate=False)\n"
      ],
      "execution_count": null,
      "outputs": []
    },
    {
      "cell_type": "markdown",
      "metadata": {
        "id": "5ertiHRd93V6"
      },
      "source": [
        "# Add a model to the pipeline\n",
        "\n",
        "You're about to take everything you've learned so far and implement it in a Pipeline that works with the real, DrivenData budget line item data you've been exploring.\n",
        "\n",
        "Surprise! The structure of the pipeline is exactly the same as earlier in this chapter:\n",
        "\n",
        "    the preprocessing step uses FeatureUnion to join the results of nested pipelines that each rely on FunctionTransformer to select multiple datatypes\n",
        "    the model step stores the model object\n",
        "\n",
        "You can then call familiar methods like .fit() and .score() on the Pipeline object pl."
      ]
    },
    {
      "cell_type": "code",
      "metadata": {
        "id": "q5fuG8A2923k"
      },
      "source": [
        "# Complete the pipeline: pl\n",
        "pl = Pipeline([\n",
        "        ('union', FeatureUnion(\n",
        "            transformer_list = [\n",
        "                ('numeric_features', Pipeline([\n",
        "                    ('selector', get_numeric_data),\n",
        "                    ('imputer', Imputer())\n",
        "                ])),\n",
        "                ('text_features', Pipeline([\n",
        "                    ('selector', get_text_data),\n",
        "                    ('vectorizer', CountVectorizer())\n",
        "                ]))\n",
        "             ]\n",
        "        )),\n",
        "        ('clf', OneVsRestClassifier(LogisticRegression()))\n",
        "    ])\n",
        "\n",
        "# Fit to the training data\n",
        "pl.fit(X_train, y_train)\n",
        "\n",
        "# Compute and print accuracy\n",
        "accuracy = pl.score(X_test, y_test)\n",
        "print(\"\\nAccuracy on budget dataset: \", accuracy)"
      ],
      "execution_count": null,
      "outputs": []
    },
    {
      "cell_type": "markdown",
      "metadata": {
        "id": "VPXeE3w6DBwC"
      },
      "source": [
        "# Try a different class of model\n",
        "\n",
        "Now you're cruising. One of the great strengths of pipelines is how easy they make the process of testing different models.\n",
        "\n",
        "Until now, you've been using the model step ('clf', OneVsRestClassifier(LogisticRegression())) in your pipeline.\n",
        "\n",
        "But what if you want to try a different model? Do you need to build an entirely new pipeline? New nests? New FeatureUnions? Nope! You just have a simple one-line change, as you'll see in this exercise.\n",
        "\n",
        "In particular, you'll swap out the logistic-regression model and replace it with a random forest classifier, which uses the statistics of an ensemble of decision trees to generate predictions."
      ]
    },
    {
      "cell_type": "code",
      "metadata": {
        "id": "QVwXKhpy92qT"
      },
      "source": [
        "# Import random forest classifer\n",
        "from sklearn.ensemble import RandomForestClassifier \n",
        "\n",
        "# Edit model step in pipeline\n",
        "pl = Pipeline([\n",
        "        ('union', FeatureUnion(\n",
        "            transformer_list = [\n",
        "                ('numeric_features', Pipeline([\n",
        "                    ('selector', get_numeric_data),\n",
        "                    ('imputer', Imputer())\n",
        "                ])),\n",
        "                ('text_features', Pipeline([\n",
        "                    ('selector', get_text_data),\n",
        "                    ('vectorizer', CountVectorizer())\n",
        "                ]))\n",
        "             ]\n",
        "        )),\n",
        "        ('clf', RandomForestClassifier())\n",
        "    ])\n",
        "\n",
        "# Fit to the training data\n",
        "pl.fit(X_train, y_train)\n",
        "\n",
        "# Compute and print accuracy\n",
        "accuracy = pl.score(X_test, y_test)\n",
        "print(\"\\nAccuracy on budget dataset: \", accuracy)"
      ],
      "execution_count": null,
      "outputs": []
    },
    {
      "cell_type": "markdown",
      "metadata": {
        "id": "RyNHO5r7D-NL"
      },
      "source": [
        "an accuracy improvement- amazing! All your work building the pipeline is paying off. It's now very simple to test different models!\n",
        "# Can you adjust the model or parameters to improve accuracy?\n",
        "\n",
        "You just saw a substantial improvement in accuracy by swapping out the model. Pipelines are amazing!\n",
        "\n",
        "Can you make it better? Try changing the parameter n_estimators of RandomForestClassifier(), whose default value is 10, to 15."
      ]
    },
    {
      "cell_type": "code",
      "metadata": {
        "id": "BBvT9SUKD9lG"
      },
      "source": [
        "# Import RandomForestClassifier\n",
        "from sklearn.ensemble import RandomForestClassifier\n",
        "\n",
        "# Add model step to pipeline: pl\n",
        "pl = Pipeline([\n",
        "        ('union', FeatureUnion(\n",
        "            transformer_list = [\n",
        "                ('numeric_features', Pipeline([\n",
        "                    ('selector', get_numeric_data),\n",
        "                    ('imputer', Imputer())\n",
        "                ])),\n",
        "                ('text_features', Pipeline([\n",
        "                    ('selector', get_text_data),\n",
        "                    ('vectorizer', CountVectorizer())\n",
        "                ]))\n",
        "             ]\n",
        "        )),\n",
        "        ('clf', RandomForestClassifier(n_estimators=15))\n",
        "    ])\n",
        "\n",
        "# Fit to the training data\n",
        "pl.fit(X_train, y_train)\n",
        "\n",
        "# Compute and print accuracy\n",
        "accuracy = pl.score(X_test, y_test)\n",
        "print(\"\\nAccuracy on budget dataset: \", accuracy)"
      ],
      "execution_count": null,
      "outputs": []
    },
    {
      "cell_type": "markdown",
      "metadata": {
        "id": "fToHT4EkFfSW"
      },
      "source": [
        "# Learning from the expert: processing\n",
        "Learning from the expert: processing\n",
        "\n",
        "In this chapter, we're going to see the tips and tricks that got the winning competitor to the top of the leaderboard.\n",
        "2. Learning from the expert\n",
        "\n",
        "Some of the tricks are about text processing, some are about statistical methods, and some are about computational efficiency. While some of this may be new, some of it may be familiar from this course or other work you've done on DataCamp. By knowing which tools to combine, we can build extremely effective models.\n",
        "3. Learning from the expert: text preprocessing\n",
        "\n",
        "In our introduction to natural language processing, we introduced the same tools that the winner used. These are common tools for manipulating text, and are often effective for improving models based on text data. The first trick the winner used was to tokenize on punctuation. By noticing that there are lots of characters like hyphens, periods, and underscores in the text we are working with, the winner picked out a better way of separating words than just spaces. The other trick was to use a range of n-grams in the model. By including unigrams and bigrams, the winner was more likely to capture important information that appears as multiple tokens in the text--for example, \"middle school\".\n",
        "4. N-grams and tokenization\n",
        "\n",
        "One of the massive benefits of building our models on top of scikit-learn is that many of these common tools are implemented for us and are well-tested by a large community. To change our tokenization and add bi-grams, we can change our call to CountVectorizer. We'll pass the regular expression to only accept alpha-numeric characters in our tokens. We defined this expression back in chapter 2. We'll also add the parameter ngram_range equals (1, 2). This tells the CountVectorizer to include 1-grams and 2-grams in the vectorization. These changes to the call to CountVectorizer are the only changes we need to make in order to add these preprocessing steps. We can easily update our pipeline to include this change, which will be part of the exercises.\n",
        "5. Range of n-grams in scikit-learn\n",
        "\n",
        "Then we fit our updated pipeline in the same way that we've been doing throughout the course: simply call the fit method on our Pipeline object. Getting predictions from our model is also the same as it has been throughout.\n",
        "6. Range of n-grams in scikit-learn\n",
        "\n",
        "We use the predict_proba function to get our class probabilities. Because we have built our preprocessing into our Pipeline, we don't need to do any additional processing on our holdout data when we load it. The pipeline represents the entire prediction process from raw data to class probabilities. \n",
        "##  How many tokens?\n",
        "\n",
        "Recall from previous chapters that how you tokenize text affects the n-gram statistics used in your model.\n",
        "\n",
        "Going forward, you'll use alpha-numeric sequences, and only alpha-numeric sequences, as tokens. Alpha-numeric tokens contain only letters a-z and numbers 0-9 (no other characters). In other words, you'll tokenize on punctuation to generate n-gram statistics.\n",
        "\n",
        "In this exercise, you'll make sure you remember how to tokenize on punctuation.\n",
        "\n",
        "Assuming we tokenize on punctuation, accepting only alpha-numeric sequences as tokens, how many tokens are in the following string from the main dataset?\n",
        "\n",
        "'PLANNING,RES,DEV,& EVAL      '\n",
        "\n",
        "If you want, we've loaded this string into the workspace as SAMPLE_STRING, but you may not need it to answer the question.\n",
        "\n",
        "**Answer :4, because , and & are not tokens**\n",
        "# Deciding what's a word\n",
        "\n",
        "Before you build up to the winning pipeline, it will be useful to look a little deeper into how the text features will be processed.\n",
        "\n",
        "In this exercise, you will use CountVectorizer on the training data X_train (preloaded into the workspace) to see the effect of tokenization on punctuation.\n",
        "\n",
        "Remember, since CountVectorizer expects a vector, you'll need to use the preloaded function, combine_text_columns before fitting to the training data"
      ]
    },
    {
      "cell_type": "code",
      "metadata": {
        "id": "5rCJvibpFf3l"
      },
      "source": [
        "# Import the CountVectorizer\n",
        "from sklearn.feature_extraction.text import CountVectorizer\n",
        "\n",
        "# Create the text vector\n",
        "text_vector = combine_text_columns(X_train)\n",
        "\n",
        "# Create the token pattern: TOKENS_ALPHANUMERIC\n",
        "TOKENS_ALPHANUMERIC = '[A-Za-z0-9]+(?=\\\\s+)'\n",
        "\n",
        "# Instantiate the CountVectorizer: text_features\n",
        "text_features = CountVectorizer(token_pattern=TOKENS_ALPHANUMERIC)\n",
        "\n",
        "# Fit text_features to the text vector\n",
        "text_features.fit(text_vector)\n",
        "\n",
        "# Print the first 10 tokens\n",
        "print(text_features.get_feature_names()[:10])"
      ],
      "execution_count": null,
      "outputs": []
    },
    {
      "cell_type": "markdown",
      "metadata": {
        "id": "mePnOhZyHtuB"
      },
      "source": [
        "# N-gram range in scikit-learn\n",
        "\n",
        "In this exercise you'll insert a CountVectorizer instance into your pipeline for the main dataset, and compute multiple n-gram features to be used in the model.\n",
        "\n",
        "In order to look for ngram relationships at multiple scales, you will use the ngram_range parameter as Peter discussed in the video.\n",
        "\n",
        "Special functions: You'll notice a couple of new steps provided in the pipeline in this and many of the remaining exercises. Specifically, the dim_red step following the vectorizer step , and the scale step preceeding the clf (classification) step.\n",
        "\n",
        "These have been added in order to account for the fact that you're using a reduced-size sample of the full dataset in this course. To make sure the models perform as the expert competition winner intended, we have to apply a dimensionality reduction technique, which is what the dim_red step does, and we have to scale the features to lie between -1 and 1, which is what the scale step does.\n",
        "\n",
        "The dim_red step uses a scikit-learn function called SelectKBest(), applying something called the chi-squared test to select the K \"best\" features. The scale step uses a scikit-learn function called MaxAbsScaler() in order to squash the relevant features into the interval -1 to 1.\n",
        "\n",
        "You won't need to do anything extra with these functions here, just complete the vectorizing pipeline steps below. However, notice how easy it was to add more processing steps to our pipeline!"
      ]
    },
    {
      "cell_type": "code",
      "metadata": {
        "id": "WhaHGTHY92Rp"
      },
      "source": [
        "# Import pipeline\n",
        "from sklearn.pipeline import Pipeline\n",
        "\n",
        "# Import classifiers\n",
        "from sklearn.linear_model import LogisticRegression\n",
        "from sklearn.multiclass import OneVsRestClassifier\n",
        "\n",
        "# Import CountVectorizer\n",
        "from sklearn.feature_extraction.text import CountVectorizer\n",
        "\n",
        "# Import other preprocessing modules\n",
        "from sklearn.preprocessing import Imputer\n",
        "from sklearn.feature_selection import chi2, SelectKBest\n",
        "\n",
        "# Select 300 best features\n",
        "chi_k = 300\n",
        "\n",
        "# Import functional utilities\n",
        "from sklearn.preprocessing import FunctionTransformer, MaxAbsScaler\n",
        "from sklearn.pipeline import FeatureUnion\n",
        "\n",
        "# Perform preprocessing\n",
        "get_text_data = FunctionTransformer(combine_text_columns, validate=False)\n",
        "get_numeric_data = FunctionTransformer(lambda x: x[NUMERIC_COLUMNS], validate=False)\n",
        "\n",
        "# Create the token pattern: TOKENS_ALPHANUMERIC\n",
        "TOKENS_ALPHANUMERIC = '[A-Za-z0-9]+(?=\\\\s+)'\n",
        "\n",
        "# Instantiate pipeline: pl\n",
        "pl = Pipeline([\n",
        "        ('union', FeatureUnion(\n",
        "            transformer_list = [\n",
        "                ('numeric_features', Pipeline([\n",
        "                    ('selector', get_numeric_data),\n",
        "                    ('imputer', Imputer())\n",
        "                ])),\n",
        "                ('text_features', Pipeline([\n",
        "                    ('selector', get_text_data),\n",
        "                    ('vectorizer', CountVectorizer(token_pattern=TOKENS_ALPHANUMERIC,\n",
        "                                                   ngram_range=(1, 2))),\n",
        "                    ('dim_red', SelectKBest(chi2, chi_k))\n",
        "                ]))\n",
        "             ]\n",
        "        )),\n",
        "        ('scale', MaxAbsScaler()),\n",
        "        ('clf', OneVsRestClassifier(LogisticRegression()))\n",
        "    ])"
      ],
      "execution_count": null,
      "outputs": []
    },
    {
      "cell_type": "markdown",
      "metadata": {
        "id": "VpV73vGBhrea"
      },
      "source": [
        "# Learning from the expert: a stats trick\n",
        "Learning from the expert: a stats trick\n",
        "\n",
        "Now that you have experience with the text processing tricks that won the competition, we'll introduce some additional tools that the winner used.\n",
        "2. Learning from the expert: interaction terms\n",
        "\n",
        "The statistical tool that the winner used is called interaction terms. We use bigrams to account for when words appear in a certain order. However, what if terms are not next to each other? For example, consider \"English Teacher for 2nd Grade\" and \"2nd Grade - budget for English Teacher\". If I want to identify this line item as a staff position for an elementary school, it helps to know that both \"2nd grade\" and \"English teacher\" appear. Interaction terms let us mathematically describe when tokens appear together.\n",
        "3. Interaction terms: the math\n",
        "\n",
        "We're going to walk through a brief bit of math here to help explain interaction terms. If we look at a simple linear model, we have\n",
        "4. Interaction terms: the math\n",
        "\n",
        "Beta-one times X1, beta 2 times X2.\n",
        "5. Interaction terms: the math\n",
        "\n",
        "Here, X1 and X2 represent whether or not a particular token appears in the row. The betas are the coefficients, which represent how important that particular token is. To add an interaction term,\n",
        "6. Interaction terms: the math\n",
        "\n",
        "we add another column to our array, X3 that equals X1 times X2. Because X1 and X2 are either 0 or 1, when we multiply them, we only get a 1 if both occur. This new column, X3, has its own coefficient, Beta 3, which can separately measure how important it is that X1 and X2 appear together. Again,\n",
        "7. Adding interaction features with scikit-learn\n",
        "\n",
        "scikit-learn provides us with a straightforward way of adding interaction terms. In scikit-learn this functionality is called PolynomialFeatures and we import it from the sklearn dot preprocessing module. As an example, we'll show the same x matrix as the last slide. When we create a PolynomialFeatures we tell it the degree of features to include. In our example, we looked at multiplying 2 columns together to see if they co-occurred, so degree equals 2, however you could 3, 4, or more. While this can sometimes improve the model results, adding larger degrees very quickly scales the number of features outside of what is computationally feasible. The interaction_only equals True parameter tells PolynomialFeatures that we don't need to multiply a column by itself, and we'll talk about include_bias on the next slide. When we fit and transform our array, x, we can see that we get the expected output from the last slide with the new column added. We opted not to include a bias term in our model, but you could have if you wanted to. A bias term is an offset for a model.\n",
        "8. A note about bias terms\n",
        "\n",
        "For example, if we plot age on the x-axis, and weights on the y-axis, we'd have a line that had a value 7-point-5 lbs when the baby is born, because a baby has a weight even when it is 0 years old! A bias term allows your model to account for situations where an x value of 0 should have a y value that is not 0, like in this example.\n",
        "9. Sparse interaction features\n",
        "\n",
        "As we mentioned, adding interaction terms makes your X array grow exponentially. Because of computational concerns, our CountVectorizer returns an object called a sparse matrix. We won't dig into the details here, but the standard PolynomialFeatures object is not compatible with a sparse matrix. We provide you with a replacement, SparseInteractions which works with a sparse matrix. You only need to pass it the degree parameter for it to work in the same way. \n",
        "\n",
        "# Which models of the data include interaction terms?\n",
        "\n",
        "Recall from the video that interaction terms involve products of features.\n",
        "\n",
        "Suppose we have two features x and y, and we use models that process the features as follows:\n",
        "\n",
        "    βx + βy + ββ\n",
        "    βxy + βx + βy\n",
        "    βx + βy + βx^2 + βy^2\n",
        "\n",
        "where β is a coefficient in your model (not a feature).\n",
        "\n",
        "Which expression(s) include interaction terms?\n",
        "\n",
        "**answer :The second expression.**\n",
        "# Implement interaction modeling in scikit-learn\n",
        "\n",
        "It's time to add interaction features to your model. The PolynomialFeatures object in scikit-learn does just that, but here you're going to use a custom interaction object, SparseInteractions. Interaction terms are a statistical tool that lets your model express what happens if two features appear together in the same row.\n",
        "\n",
        "SparseInteractions does the same thing as PolynomialFeatures, but it uses sparse matrices to do so. You can get the code for SparseInteractions at this GitHub Gist.\n",
        "\n",
        "PolynomialFeatures and SparseInteractions both take the argument degree, which tells them what polynomial degree of interactions to compute.\n",
        "\n",
        "You're going to consider interaction terms of degree=2 in your pipeline. You will insert these steps after the preprocessing steps you've built out so far, but before the classifier steps.\n",
        "\n",
        "Pipelines with interaction terms take a while to train (since you're making n features into n-squared features!), \n",
        "\n",
        "https://github.com/drivendataorg/box-plots-sklearn/blob/master/src/features/SparseInteractions.py"
      ]
    },
    {
      "cell_type": "code",
      "metadata": {
        "id": "d8hH5pq8hsD3"
      },
      "source": [
        "# Instantiate pipeline: pl\n",
        "pl = Pipeline([\n",
        "        ('union', FeatureUnion(\n",
        "            transformer_list = [\n",
        "                ('numeric_features', Pipeline([\n",
        "                    ('selector', get_numeric_data),\n",
        "                    ('imputer', Imputer())\n",
        "                ])),\n",
        "                ('text_features', Pipeline([\n",
        "                    ('selector', get_text_data),\n",
        "                    ('vectorizer', CountVectorizer(token_pattern=TOKENS_ALPHANUMERIC,\n",
        "                                                   ngram_range=(1, 2))),  \n",
        "                    ('dim_red', SelectKBest(chi2, chi_k))\n",
        "                ]))\n",
        "             ]\n",
        "        )),\n",
        "        ('int', SparseInteractions(degree=2)),\n",
        "        ('scale', MaxAbsScaler()),\n",
        "        ('clf', OneVsRestClassifier(LogisticRegression()))\n",
        "    ])"
      ],
      "execution_count": null,
      "outputs": []
    },
    {
      "cell_type": "markdown",
      "metadata": {
        "id": "Ypu6HLsFkodz"
      },
      "source": [
        "# Learning from the expert: the winning model\n",
        "\n",
        "Congratulations! You've implemented nearly all of the winning pipeline. Just a couple more tweaks.\n",
        "2. Learning from the expert: hashing trick\n",
        "\n",
        "We've mentioned that we need to balance adding new features with the computational cost of additional columns. For example, adding 3-grams or 4-grams is going to have an enormous increase in the size of the array. As the array grows in size, we need more computational power to fit our model. The \"hashing trick\" is a way of limiting the size of the matrix that we create without sacrificing too much model accuracy. A hash function takes an input, in this case a token, and outputs a hash value. For example, the hash value may be an integer like in this example below. We explicitly state how many possible outputs the hashing function may have. For example, we may say that we will only have 250 outputs of the hash function. The HashingVectorizer then maps every token to one of those 250 columns. Some columns will have multiple tokens that map to them. Interestingly, the original paper about the hashing function demonstrates that even if two tokens hash to the same value, there is very little effect on model accuracy in real world problems.\n",
        "3. When to use the hashing trick\n",
        "\n",
        "We've been working with a small subset of the data for this course, however, the size of the full dataset is part of the challenge. In this situation, we want to do whatever we can to make our array of features smaller. Doing so is called \"dimensionality reduction\". The hashing trick is particularly useful in cases like this where we have a very large amount of text data.\n",
        "4. Implementing the hashing trick in scikit-learn\n",
        "\n",
        "Implementing the hashing trick is very simple in scikit-learn. Instead of using the CountVectorizer, which creates the bag of words representation, we change to the HashingVectorizer. We can pass this the same token_pattern and ngram_range as before. The parameters norm equals None and non_negative equals True let you drop in the HashingVectorizer as a replacement for the CountVectorizer. For more details on those two parameters, you can see the scikit-learn documentation. We can now use the HashingVectorizer in a Pipeline instead of the CountVectorizer.\n",
        "5. The model that won it all\n",
        "\n",
        "We've worked through the three categories of tools that the winner put together to win the competition. The NLP trick was to use bigrams and tokenize on punctuation. The statistical trick was to add interaction terms to the model. The computational trick was to use a HashingVectorizer. You can now code all of these in a scikit-learn Pipeline. However, there's one thing we haven't talked about yet. What is the class of model that the winner used? Was it a deep convolutional neural network? Extreme gradient boosted trees? An ensemble of local-expert elastic net regressions?\n",
        "6. The model that won it all\n",
        "\n",
        "No! The winning model was, in fact, the simple model we started with: logistic regression!The competition wasn't won by a cutting edge algorithm. Instead, it was won by thinking carefully about how to create features for the model and then adding a couple of easily implemented tricks. So, instead of reaching for those advanced algorithms that are hard to interpret and expensive to train, it's always worth it to see how far you can get with simpler methods. \n",
        " # Why is hashing a useful trick?\n",
        "\n",
        "In the video, Peter explained that a hash function takes an input, in your case a token, and outputs a hash value. For example, the input may be a string and the hash value may be an integer.\n",
        "\n",
        "We've loaded a familiar python datatype, a dictionary called hash_dict, that makes this mapping concept a bit more explicit. In fact, python dictionaries ARE hash tables!\n",
        "\n",
        "Print hash_dict in the IPython Shell to get a sense of how strings can be mapped to integers.\n",
        "\n",
        "By explicitly stating how many possible outputs the hashing function may have, we limit the size of the objects that need to be processed. With these limits known, computation can be made more efficient and we can get results faster, even on large datasets.\n",
        "\n",
        "Using the above information, answer the following:\n",
        "\n",
        "Why is hashing a useful trick?\n",
        "**Answer :Some problems are memory-bound and not easily parallelizable, and hashing enforces a fixed length computation instead of using a mutable datatype (like a dictionary).**\n",
        "# Implementing the hashing trick in scikit-learn\n",
        "hash vs count\n",
        "https://kavita-ganesan.com/hashingvectorizer-vs-countvectorizer/#.YQXNDBvgpWw\n",
        "\n",
        "In this exercise you will check out the scikit-learn implementation of HashingVectorizer before adding it to your pipeline later.\n",
        "\n",
        "As you saw in the video, HashingVectorizer acts just like CountVectorizer in that it can accept token_pattern and ngram_range parameters. The important difference is that it creates hash values from the text, so that we get all the computational advantages of hashing!"
      ]
    },
    {
      "cell_type": "code",
      "metadata": {
        "id": "6fniGIMqkoG3"
      },
      "source": [
        "from sklearn.feature_extraction.text import HashingVectorizer\n",
        "\n",
        "# dataset\n",
        "cat_in_the_hat_docs=[\n",
        "      \"One Cent, Two Cents, Old Cent, New Cent: All About Money (Cat in the Hat's Learning Library\",\n",
        "      \"Inside Your Outside: All About the Human Body (Cat in the Hat's Learning Library)\",\n",
        "      \"Oh, The Things You Can Do That Are Good for You: All About Staying Healthy (Cat in the Hat's Learning Library)\",\n",
        "      \"On Beyond Bugs: All About Insects (Cat in the Hat's Learning Library)\",\n",
        "      \"There's No Place Like Space: All About Our Solar System (Cat in the Hat's Learning Library)\" \n",
        "]"
      ],
      "execution_count": 1,
      "outputs": []
    },
    {
      "cell_type": "code",
      "metadata": {
        "id": "wFsWu_YisQoy"
      },
      "source": [
        "# Import HashingVectorizer\n",
        "from sklearn.feature_extraction.text import HashingVectorizer\n",
        "\n",
        "# Get text data: text_data\n",
        "text_data = combine_text_columns(X_train)\n",
        "\n",
        "# Create the token pattern: TOKENS_ALPHANUMERIC\n",
        "TOKENS_ALPHANUMERIC = '[A-Za-z0-9]+(?=\\\\s+)' \n",
        "\n",
        "# Instantiate the HashingVectorizer: hashing_vec\n",
        "hashing_vec = HashingVectorizer(token_pattern=TOKENS_ALPHANUMERIC)\n",
        "\n",
        "# Fit and transform the Hashing Vectorizer\n",
        "hashed_text = hashing_vec.fit_transform(text_data)\n",
        "\n",
        "# Create DataFrame and print the head\n",
        "hashed_df = pd.DataFrame(hashed_text.data)\n",
        "print(hashed_df.head())"
      ],
      "execution_count": null,
      "outputs": []
    },
    {
      "cell_type": "code",
      "metadata": {
        "id": "BJ-KuKDps4Dk"
      },
      "source": [
        ""
      ],
      "execution_count": null,
      "outputs": []
    },
    {
      "cell_type": "markdown",
      "metadata": {
        "id": "YDnrYqqxsfkF"
      },
      "source": [
        "# Build the winning model\n",
        "\n",
        "You have arrived! This is where all of your hard work pays off. It's time to build the model that won DrivenData's competition.\n",
        "\n",
        "You've constructed a robust, powerful pipeline capable of processing training and testing data. Now that you understand the data and know all of the tools you need, you can essentially solve the whole problem in a relatively small number of lines of code. Wow!\n",
        "\n",
        "All you need to do is add the HashingVectorizer step to the pipeline to replace the CountVectorizer step.\n",
        "\n",
        "The parameters non_negative=True, norm=None, and binary=False make the HashingVectorizer perform similarly to the default settings on the CountVectorizer so you can just replace one with the other."
      ]
    },
    {
      "cell_type": "code",
      "metadata": {
        "id": "7xtEavdAs4-M"
      },
      "source": [
        "# Import the hashing vectorizer\n",
        "from sklearn.feature_extraction.text import HashingVectorizer\n",
        "\n",
        "# Instantiate the winning model pipeline: pl\n",
        "pl = Pipeline([\n",
        "        ('union', FeatureUnion(\n",
        "            transformer_list = [\n",
        "                ('numeric_features', Pipeline([\n",
        "                    ('selector', get_numeric_data),\n",
        "                    ('imputer', Imputer())\n",
        "                ])),\n",
        "                ('text_features', Pipeline([\n",
        "                    ('selector', get_text_data),\n",
        "                    ('vectorizer', HashingVectorizer(token_pattern=TOKENS_ALPHANUMERIC,\n",
        "                                                     non_negative=True, norm=None, binary=False,\n",
        "                                                     ngram_range=(1, 2))),\n",
        "                    ('dim_red', SelectKBest(chi2, chi_k))\n",
        "                ]))\n",
        "             ]\n",
        "        )),\n",
        "        ('int', SparseInteractions(degree=2)),\n",
        "        ('scale', MaxAbsScaler()),\n",
        "        ('clf', OneVsRestClassifier(LogisticRegression()))\n",
        "    ])"
      ],
      "execution_count": null,
      "outputs": []
    },
    {
      "cell_type": "markdown",
      "metadata": {
        "id": "xJ212U0otT0X"
      },
      "source": [
        "# What tactics got the winner the best score?\n",
        "\n",
        "Now you've implemented the winning model from start to finish. If you want to use this model locally, this Jupyter notebook contains all the code you've worked so hard on. You can now take that code and build on it!\n",
        "\n",
        "Let's take a moment to reflect on why this model did so well. What tactics got the winner the best score?\n",
        "**The winner used skillful NLP, efficient computation, and simple but powerful stats tricks to master the budget data.**\n",
        "https://github.com/datacamp/course-resources-ml-with-experts-budgets/blob/master/notebooks/1.0-full-model.ipynb"
      ]
    },
    {
      "cell_type": "code",
      "metadata": {
        "id": "AM9EkHRTuD5B"
      },
      "source": [
        "\n",
        "\n",
        "path_to_holdout_data = os.path.join(os.pardir,\n",
        "                                    'data',\n",
        "                                    'TestSet.csv')\n",
        "\n",
        "# Load holdout data\n",
        "holdout = pd.read_csv(path_to_holdout_data, index_col=0)\n",
        "\n",
        "# Make predictions\n",
        "predictions = pl.predict_proba(holdout)\n",
        "\n",
        "# Format correctly in new DataFrame: prediction_df\n",
        "prediction_df = pd.DataFrame(columns=pd.get_dummies(df[LABELS]).columns,\n",
        "                             index=holdout.index,\n",
        "                             data=predictions)\n",
        "\n",
        "\n",
        "# Save prediction_df to csv called \"predictions.csv\"\n",
        "prediction_df.to_csv(\"predictions.csv\")\n",
        "\n"
      ],
      "execution_count": null,
      "outputs": []
    },
    {
      "cell_type": "markdown",
      "metadata": {
        "id": "cgO8lrbFc114"
      },
      "source": [
        "https://shravan-kuchkula.github.io/mutli-class-multi-label-pipeline/#using-countvectorizer-on-1-single-column\n",
        "\n",
        "completre guide for this project :\n",
        "https://shravan-kuchkula.github.io/mutli-class-multi-label-pipeline/#testing-the-improved-pipeline-on-a-holdout-dataset"
      ]
    }
  ]
}