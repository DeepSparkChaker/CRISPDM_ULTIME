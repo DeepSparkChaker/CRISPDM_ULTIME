{
 "cells": [
  {
   "cell_type": "markdown",
   "metadata": {
    "id": "Q4yHNmOsPU_f"
   },
   "source": [
    "# Phase 1 - Récupérer les données"
   ]
  },
  {
   "cell_type": "code",
   "execution_count": 2,
   "metadata": {
    "executionInfo": {
     "elapsed": 933,
     "status": "ok",
     "timestamp": 1604677690849,
     "user": {
      "displayName": "Rémi CONNESSON",
      "photoUrl": "",
      "userId": "13653807957593885822"
     },
     "user_tz": -60
    },
    "id": "2MdDU_MlOz-p"
   },
   "outputs": [],
   "source": [
    "train_url = 'http://bit.ly/titanic-train-set'\n",
    "test_url  = 'http://bit.ly/titanic-test-set'\n",
    "\n",
    "import pandas as pd\n",
    "df = pd.read_csv(train_url, index_col=\"PassengerId\")\n",
    "\n",
    "# Pour le train test\n",
    "colonne_cible = \"Survived\"\n",
    "\n",
    "X = df.drop(colonne_cible, axis='columns')\n",
    "Y = df[colonne_cible]"
   ]
  },
  {
   "cell_type": "markdown",
   "metadata": {
    "id": "A8u_9Ah0PI1D"
   },
   "source": [
    "# Data Cleaning à faire par nos soins"
   ]
  },
  {
   "cell_type": "code",
   "execution_count": 9,
   "metadata": {
    "executionInfo": {
     "elapsed": 898,
     "status": "ok",
     "timestamp": 1604677936689,
     "user": {
      "displayName": "Rémi CONNESSON",
      "photoUrl": "",
      "userId": "13653807957593885822"
     },
     "user_tz": -60
    },
    "id": "adr4RSkgPLpi"
   },
   "outputs": [],
   "source": [
    "# Les colonnes sur lesquelles on va faire un traitement\n",
    "colonnes_catégoriques = ['Sex']\n",
    "colonnes_numériques = []\n",
    "colonnes_catégoriques_avec_valeurs_manquantes = ['Embarked']\n",
    "colonnes_numériques_avec_valeurs_manquantes = ['Age', 'Fare']\n",
    "colonnes_feature_engineering = ['Name' , 'Cabin']  # CountVectorizer / Cabin etc...\n",
    "\n",
    "# Le reste\n",
    "drop_colonnes = ['Ticket']  # Colonnes à lacher\n",
    "passthrough_colonnes = ['Pclass', 'SibSp', 'Parch'] # Colonnes à laisser-passer telles quelles"
   ]
  },
  {
   "cell_type": "code",
   "execution_count": 10,
   "metadata": {
    "executionInfo": {
     "elapsed": 481,
     "status": "ok",
     "timestamp": 1604677936694,
     "user": {
      "displayName": "Rémi CONNESSON",
      "photoUrl": "",
      "userId": "13653807957593885822"
     },
     "user_tz": -60
    },
    "id": "3rtjl8t3Pa7E"
   },
   "outputs": [],
   "source": [
    "from sklearn.impute import SimpleImputer\n",
    "from sklearn.preprocessing import OneHotEncoder\n",
    "from sklearn.feature_extraction.text import CountVectorizer\n",
    "from sklearn.compose import make_column_transformer\n",
    "from sklearn.pipeline import make_pipeline, Pipeline\n",
    "from sklearn.preprocessing import FunctionTransformer"
   ]
  },
  {
   "cell_type": "code",
   "execution_count": 11,
   "metadata": {
    "executionInfo": {
     "elapsed": 1114,
     "status": "ok",
     "timestamp": 1604677937724,
     "user": {
      "displayName": "Rémi CONNESSON",
      "photoUrl": "",
      "userId": "13653807957593885822"
     },
     "user_tz": -60
    },
    "id": "hDKksVG4PfFn"
   },
   "outputs": [],
   "source": [
    "fill_missing_then_one_hot_encoder = make_pipeline(\n",
    "    SimpleImputer(strategy='constant', fill_value='manquante'),\n",
    "    OneHotEncoder(handle_unknown='ignore')\n",
    ")"
   ]
  },
  {
   "cell_type": "code",
   "execution_count": 12,
   "metadata": {
    "executionInfo": {
     "elapsed": 680,
     "status": "ok",
     "timestamp": 1604677937729,
     "user": {
      "displayName": "Rémi CONNESSON",
      "photoUrl": "",
      "userId": "13653807957593885822"
     },
     "user_tz": -60
    },
    "id": "AwRv8Kp9PhGt"
   },
   "outputs": [],
   "source": [
    "def extraire_la_première_lettre(serie):\n",
    "    return pd.DataFrame(serie.str[0])\n",
    "\n",
    "extraire_lettre_cabine = make_pipeline(\n",
    "    FunctionTransformer(extraire_la_première_lettre),\n",
    "    fill_missing_then_one_hot_encoder,\n",
    ")"
   ]
  },
  {
   "cell_type": "code",
   "execution_count": 13,
   "metadata": {
    "executionInfo": {
     "elapsed": 587,
     "status": "ok",
     "timestamp": 1604677938040,
     "user": {
      "displayName": "Rémi CONNESSON",
      "photoUrl": "",
      "userId": "13653807957593885822"
     },
     "user_tz": -60
    },
    "id": "j7_X6IugPpgK"
   },
   "outputs": [],
   "source": [
    "data_cleaning = make_column_transformer(\n",
    "    ( OneHotEncoder(), colonnes_catégoriques ),\n",
    "    ( fill_missing_then_one_hot_encoder , colonnes_catégoriques_avec_valeurs_manquantes),\n",
    "    ( SimpleImputer(strategy='mean'), colonnes_numériques_avec_valeurs_manquantes),\n",
    "    ( CountVectorizer(), 'Name'),\n",
    "    ( extraire_lettre_cabine, 'Cabin'),\n",
    "    ( 'drop' , drop_colonnes),\n",
    "    ( 'passthrough' , passthrough_colonnes)\n",
    ")"
   ]
  },
  {
   "cell_type": "markdown",
   "metadata": {
    "id": "2naW8-FpO_T0"
   },
   "source": [
    "# On aura besoin de comparer avec nos autres pipelines"
   ]
  },
  {
   "cell_type": "code",
   "execution_count": 14,
   "metadata": {
    "colab": {
     "base_uri": "https://localhost:8080/"
    },
    "executionInfo": {
     "elapsed": 648,
     "status": "ok",
     "timestamp": 1604677942726,
     "user": {
      "displayName": "Rémi CONNESSON",
      "photoUrl": "",
      "userId": "13653807957593885822"
     },
     "user_tz": -60
    },
    "id": "CFdZKPT2PCAl",
    "outputId": "dce09b76-15ec-4345-da12-da4d6ac84318"
   },
   "outputs": [
    {
     "data": {
      "text/plain": [
       "KFold(n_splits=5, random_state=77, shuffle=True)"
      ]
     },
     "execution_count": 14,
     "metadata": {
      "tags": []
     },
     "output_type": "execute_result"
    }
   ],
   "source": [
    "from sklearn.model_selection import KFold\n",
    "\n",
    "cross_validation_design = KFold(n_splits=5,\n",
    "                                shuffle=True,\n",
    "                                random_state=77)\n",
    "\n",
    "cross_validation_design"
   ]
  },
  {
   "cell_type": "code",
   "execution_count": null,
   "metadata": {
    "id": "vnRm46_cPFw4"
   },
   "outputs": [],
   "source": []
  },
  {
   "cell_type": "markdown",
   "metadata": {
    "id": "tuC_MiH3QkPu"
   },
   "source": [
    "# AUTOML "
   ]
  },
  {
   "cell_type": "code",
   "execution_count": 15,
   "metadata": {
    "colab": {
     "base_uri": "https://localhost:8080/"
    },
    "executionInfo": {
     "elapsed": 6327,
     "status": "ok",
     "timestamp": 1604677966920,
     "user": {
      "displayName": "Rémi CONNESSON",
      "photoUrl": "",
      "userId": "13653807957593885822"
     },
     "user_tz": -60
    },
    "id": "gg_5rUENQl37",
    "outputId": "107bb4f0-4138-456d-80db-66318eb7f6f3"
   },
   "outputs": [
    {
     "name": "stdout",
     "output_type": "stream",
     "text": [
      "Collecting tpot\n",
      "\u001b[?25l  Downloading https://files.pythonhosted.org/packages/18/19/4e61af9cd13340167c7865bd55b29c2605058acb4c0aca438c45db75aa29/TPOT-0.11.6.post1-py3-none-any.whl (86kB)\n",
      "\r",
      "\u001b[K     |███▉                            | 10kB 18.1MB/s eta 0:00:01\r",
      "\u001b[K     |███████▋                        | 20kB 6.3MB/s eta 0:00:01\r",
      "\u001b[K     |███████████▍                    | 30kB 7.7MB/s eta 0:00:01\r",
      "\u001b[K     |███████████████▏                | 40kB 8.3MB/s eta 0:00:01\r",
      "\u001b[K     |███████████████████             | 51kB 6.5MB/s eta 0:00:01\r",
      "\u001b[K     |██████████████████████▉         | 61kB 7.2MB/s eta 0:00:01\r",
      "\u001b[K     |██████████████████████████▋     | 71kB 7.7MB/s eta 0:00:01\r",
      "\u001b[K     |██████████████████████████████▍ | 81kB 8.1MB/s eta 0:00:01\r",
      "\u001b[K     |████████████████████████████████| 92kB 4.6MB/s \n",
      "\u001b[?25hCollecting update-checker>=0.16\n",
      "  Downloading https://files.pythonhosted.org/packages/0c/ba/8dd7fa5f0b1c6a8ac62f8f57f7e794160c1f86f31c6d0fb00f582372a3e4/update_checker-0.18.0-py3-none-any.whl\n",
      "Requirement already satisfied: scikit-learn>=0.22.0 in /usr/local/lib/python3.6/dist-packages (from tpot) (0.22.2.post1)\n",
      "Requirement already satisfied: numpy>=1.16.3 in /usr/local/lib/python3.6/dist-packages (from tpot) (1.18.5)\n",
      "Requirement already satisfied: pandas>=0.24.2 in /usr/local/lib/python3.6/dist-packages (from tpot) (1.1.4)\n",
      "Requirement already satisfied: joblib>=0.13.2 in /usr/local/lib/python3.6/dist-packages (from tpot) (0.17.0)\n",
      "Requirement already satisfied: tqdm>=4.36.1 in /usr/local/lib/python3.6/dist-packages (from tpot) (4.41.1)\n",
      "Collecting stopit>=1.1.1\n",
      "  Downloading https://files.pythonhosted.org/packages/35/58/e8bb0b0fb05baf07bbac1450c447d753da65f9701f551dca79823ce15d50/stopit-1.1.2.tar.gz\n",
      "Collecting deap>=1.2\n",
      "\u001b[?25l  Downloading https://files.pythonhosted.org/packages/0a/eb/2bd0a32e3ce757fb26264765abbaedd6d4d3640d90219a513aeabd08ee2b/deap-1.3.1-cp36-cp36m-manylinux2010_x86_64.whl (157kB)\n",
      "\u001b[K     |████████████████████████████████| 163kB 13.7MB/s \n",
      "\u001b[?25hRequirement already satisfied: scipy>=1.3.1 in /usr/local/lib/python3.6/dist-packages (from tpot) (1.4.1)\n",
      "Requirement already satisfied: requests>=2.3.0 in /usr/local/lib/python3.6/dist-packages (from update-checker>=0.16->tpot) (2.23.0)\n",
      "Requirement already satisfied: python-dateutil>=2.7.3 in /usr/local/lib/python3.6/dist-packages (from pandas>=0.24.2->tpot) (2.8.1)\n",
      "Requirement already satisfied: pytz>=2017.2 in /usr/local/lib/python3.6/dist-packages (from pandas>=0.24.2->tpot) (2018.9)\n",
      "Requirement already satisfied: certifi>=2017.4.17 in /usr/local/lib/python3.6/dist-packages (from requests>=2.3.0->update-checker>=0.16->tpot) (2020.6.20)\n",
      "Requirement already satisfied: chardet<4,>=3.0.2 in /usr/local/lib/python3.6/dist-packages (from requests>=2.3.0->update-checker>=0.16->tpot) (3.0.4)\n",
      "Requirement already satisfied: idna<3,>=2.5 in /usr/local/lib/python3.6/dist-packages (from requests>=2.3.0->update-checker>=0.16->tpot) (2.10)\n",
      "Requirement already satisfied: urllib3!=1.25.0,!=1.25.1,<1.26,>=1.21.1 in /usr/local/lib/python3.6/dist-packages (from requests>=2.3.0->update-checker>=0.16->tpot) (1.24.3)\n",
      "Requirement already satisfied: six>=1.5 in /usr/local/lib/python3.6/dist-packages (from python-dateutil>=2.7.3->pandas>=0.24.2->tpot) (1.15.0)\n",
      "Building wheels for collected packages: stopit\n",
      "  Building wheel for stopit (setup.py) ... \u001b[?25l\u001b[?25hdone\n",
      "  Created wheel for stopit: filename=stopit-1.1.2-cp36-none-any.whl size=11956 sha256=8fb8e1724e54fb2c89573a57677f8e11e18042f4aee17474f1c3bcf14b051055\n",
      "  Stored in directory: /root/.cache/pip/wheels/3c/85/2b/2580190404636bfc63e8de3dff629c03bb795021e1983a6cc7\n",
      "Successfully built stopit\n",
      "Installing collected packages: update-checker, stopit, deap, tpot\n",
      "Successfully installed deap-1.3.1 stopit-1.1.2 tpot-0.11.6.post1 update-checker-0.18.0\n"
     ]
    }
   ],
   "source": [
    "!pip install tpot"
   ]
  },
  {
   "cell_type": "code",
   "execution_count": 17,
   "metadata": {
    "executionInfo": {
     "elapsed": 3469,
     "status": "ok",
     "timestamp": 1604678143616,
     "user": {
      "displayName": "Rémi CONNESSON",
      "photoUrl": "",
      "userId": "13653807957593885822"
     },
     "user_tz": -60
    },
    "id": "HJbkrjmdQsns"
   },
   "outputs": [],
   "source": [
    "from tpot import TPOTClassifier\n",
    "\n",
    "model = TPOTClassifier(generations=2, population_size=50,\n",
    "                       cv=cross_validation_design,\n",
    "                       scoring='accuracy',\n",
    "                       config_dict='TPOT sparse', \n",
    "                       verbosity=2, random_state=777, n_jobs=-1)\n",
    "\n"
   ]
  },
  {
   "cell_type": "code",
   "execution_count": 19,
   "metadata": {
    "colab": {
     "base_uri": "https://localhost:8080/",
     "height": 282,
     "referenced_widgets": [
      "08d1eb813e7949eca2b52a3629d8151b",
      "e723f7053def48ee88cca741008c1480",
      "ed1738e2a1c54a60bf086dcef40abf8d",
      "86d9940c891b4774909df30e9fe7b69f",
      "3e03361ad22f438f8c5dd1875cbd9284",
      "895114e7e02a47dcb28affa03aa1923b",
      "14ed5bc8d443458fb0b76dff9998025f",
      "c8cceefcfa0749629ea12558f6b4df95"
     ]
    },
    "executionInfo": {
     "elapsed": 298302,
     "status": "ok",
     "timestamp": 1604678500932,
     "user": {
      "displayName": "Rémi CONNESSON",
      "photoUrl": "",
      "userId": "13653807957593885822"
     },
     "user_tz": -60
    },
    "id": "OndTVJv4RUBB",
    "outputId": "61be902c-7fb2-4c5b-d900-9422d57db5c5"
   },
   "outputs": [
    {
     "data": {
      "application/vnd.jupyter.widget-view+json": {
       "model_id": "08d1eb813e7949eca2b52a3629d8151b",
       "version_major": 2,
       "version_minor": 0
      },
      "text/plain": [
       "HBox(children=(FloatProgress(value=0.0, description='Optimization Progress', max=150.0, style=ProgressStyle(de…"
      ]
     },
     "metadata": {
      "tags": []
     },
     "output_type": "display_data"
    },
    {
     "name": "stdout",
     "output_type": "stream",
     "text": [
      "\r\n",
      "Generation 1 - Current best internal CV score: 0.8316678174628084\n",
      "\n",
      "Generation 2 - Current best internal CV score: 0.8350197727700708\n",
      "\n",
      "Best pipeline: RandomForestClassifier(input_matrix, bootstrap=True, criterion=entropy, max_features=0.8500000000000001, min_samples_leaf=4, min_samples_split=10, n_estimators=100)\n"
     ]
    },
    {
     "data": {
      "text/plain": [
       "TPOTClassifier(config_dict='TPOT sparse', crossover_rate=0.1,\n",
       "               cv=KFold(n_splits=5, random_state=77, shuffle=True),\n",
       "               disable_update_check=False, early_stop=None, generations=2,\n",
       "               log_file=None, max_eval_time_mins=5, max_time_mins=None,\n",
       "               memory=None, mutation_rate=0.9, n_jobs=-1, offspring_size=None,\n",
       "               periodic_checkpoint_folder=None, population_size=50,\n",
       "               random_state=777, scoring='accuracy', subsample=1.0,\n",
       "               template=None, use_dask=False, verbosity=2, warm_start=False)"
      ]
     },
     "execution_count": 19,
     "metadata": {
      "tags": []
     },
     "output_type": "execute_result"
    }
   ],
   "source": [
    "# D'abord faut cleaner X\n",
    "\n",
    "X_clean = data_cleaning.fit_transform(X)\n",
    "\n",
    "model.fit(X_clean, Y)"
   ]
  },
  {
   "cell_type": "code",
   "execution_count": 20,
   "metadata": {
    "executionInfo": {
     "elapsed": 212113,
     "status": "ok",
     "timestamp": 1604678500951,
     "user": {
      "displayName": "Rémi CONNESSON",
      "photoUrl": "",
      "userId": "13653807957593885822"
     },
     "user_tz": -60
    },
    "id": "db7ODQUJRYcL"
   },
   "outputs": [],
   "source": [
    "# et bim!!!!\n",
    "model.export('tpot_titanic_meilleure_pipeline.py')"
   ]
  },
  {
   "cell_type": "code",
   "execution_count": 21,
   "metadata": {
    "executionInfo": {
     "elapsed": 1048,
     "status": "ok",
     "timestamp": 1604678671998,
     "user": {
      "displayName": "Rémi CONNESSON",
      "photoUrl": "",
      "userId": "13653807957593885822"
     },
     "user_tz": -60
    },
    "id": "OQUJT8QaR4VH"
   },
   "outputs": [],
   "source": [
    "\n",
    "#B est pipeline: RandomForestClassifier(input_matrix, bootstrap=True, criterion=entropy, max_features=0.8500000000000001, min_samples_leaf=4, min_samples_split=10, n_estimators=100)"
   ]
  },
  {
   "cell_type": "code",
   "execution_count": null,
   "metadata": {
    "id": "Pn17801DTVnQ"
   },
   "outputs": [],
   "source": []
  }
 ],
 "metadata": {
  "colab": {
   "authorship_tag": "ABX9TyMX4ZC243raUGhwYldALeAN",
   "name": "Workflow Ultime 3 Auto ML",
   "provenance": []
  },
  "kernelspec": {
   "display_name": "Python 3",
   "language": "python",
   "name": "python3"
  },
  "language_info": {
   "codemirror_mode": {
    "name": "ipython",
    "version": 3
   },
   "file_extension": ".py",
   "mimetype": "text/x-python",
   "name": "python",
   "nbconvert_exporter": "python",
   "pygments_lexer": "ipython3",
   "version": "3.7.6"
  },
  "widgets": {
   "application/vnd.jupyter.widget-state+json": {
    "08d1eb813e7949eca2b52a3629d8151b": {
     "model_module": "@jupyter-widgets/controls",
     "model_name": "HBoxModel",
     "state": {
      "_dom_classes": [],
      "_model_module": "@jupyter-widgets/controls",
      "_model_module_version": "1.5.0",
      "_model_name": "HBoxModel",
      "_view_count": null,
      "_view_module": "@jupyter-widgets/controls",
      "_view_module_version": "1.5.0",
      "_view_name": "HBoxView",
      "box_style": "",
      "children": [
       "IPY_MODEL_ed1738e2a1c54a60bf086dcef40abf8d",
       "IPY_MODEL_86d9940c891b4774909df30e9fe7b69f"
      ],
      "layout": "IPY_MODEL_e723f7053def48ee88cca741008c1480"
     }
    },
    "14ed5bc8d443458fb0b76dff9998025f": {
     "model_module": "@jupyter-widgets/controls",
     "model_name": "DescriptionStyleModel",
     "state": {
      "_model_module": "@jupyter-widgets/controls",
      "_model_module_version": "1.5.0",
      "_model_name": "DescriptionStyleModel",
      "_view_count": null,
      "_view_module": "@jupyter-widgets/base",
      "_view_module_version": "1.2.0",
      "_view_name": "StyleView",
      "description_width": ""
     }
    },
    "3e03361ad22f438f8c5dd1875cbd9284": {
     "model_module": "@jupyter-widgets/controls",
     "model_name": "ProgressStyleModel",
     "state": {
      "_model_module": "@jupyter-widgets/controls",
      "_model_module_version": "1.5.0",
      "_model_name": "ProgressStyleModel",
      "_view_count": null,
      "_view_module": "@jupyter-widgets/base",
      "_view_module_version": "1.2.0",
      "_view_name": "StyleView",
      "bar_color": null,
      "description_width": "initial"
     }
    },
    "86d9940c891b4774909df30e9fe7b69f": {
     "model_module": "@jupyter-widgets/controls",
     "model_name": "HTMLModel",
     "state": {
      "_dom_classes": [],
      "_model_module": "@jupyter-widgets/controls",
      "_model_module_version": "1.5.0",
      "_model_name": "HTMLModel",
      "_view_count": null,
      "_view_module": "@jupyter-widgets/controls",
      "_view_module_version": "1.5.0",
      "_view_name": "HTMLView",
      "description": "",
      "description_tooltip": null,
      "layout": "IPY_MODEL_c8cceefcfa0749629ea12558f6b4df95",
      "placeholder": "​",
      "style": "IPY_MODEL_14ed5bc8d443458fb0b76dff9998025f",
      "value": " 150/150 [04:52&lt;00:00,  6.18s/pipeline]"
     }
    },
    "895114e7e02a47dcb28affa03aa1923b": {
     "model_module": "@jupyter-widgets/base",
     "model_name": "LayoutModel",
     "state": {
      "_model_module": "@jupyter-widgets/base",
      "_model_module_version": "1.2.0",
      "_model_name": "LayoutModel",
      "_view_count": null,
      "_view_module": "@jupyter-widgets/base",
      "_view_module_version": "1.2.0",
      "_view_name": "LayoutView",
      "align_content": null,
      "align_items": null,
      "align_self": null,
      "border": null,
      "bottom": null,
      "display": null,
      "flex": null,
      "flex_flow": null,
      "grid_area": null,
      "grid_auto_columns": null,
      "grid_auto_flow": null,
      "grid_auto_rows": null,
      "grid_column": null,
      "grid_gap": null,
      "grid_row": null,
      "grid_template_areas": null,
      "grid_template_columns": null,
      "grid_template_rows": null,
      "height": null,
      "justify_content": null,
      "justify_items": null,
      "left": null,
      "margin": null,
      "max_height": null,
      "max_width": null,
      "min_height": null,
      "min_width": null,
      "object_fit": null,
      "object_position": null,
      "order": null,
      "overflow": null,
      "overflow_x": null,
      "overflow_y": null,
      "padding": null,
      "right": null,
      "top": null,
      "visibility": null,
      "width": null
     }
    },
    "c8cceefcfa0749629ea12558f6b4df95": {
     "model_module": "@jupyter-widgets/base",
     "model_name": "LayoutModel",
     "state": {
      "_model_module": "@jupyter-widgets/base",
      "_model_module_version": "1.2.0",
      "_model_name": "LayoutModel",
      "_view_count": null,
      "_view_module": "@jupyter-widgets/base",
      "_view_module_version": "1.2.0",
      "_view_name": "LayoutView",
      "align_content": null,
      "align_items": null,
      "align_self": null,
      "border": null,
      "bottom": null,
      "display": null,
      "flex": null,
      "flex_flow": null,
      "grid_area": null,
      "grid_auto_columns": null,
      "grid_auto_flow": null,
      "grid_auto_rows": null,
      "grid_column": null,
      "grid_gap": null,
      "grid_row": null,
      "grid_template_areas": null,
      "grid_template_columns": null,
      "grid_template_rows": null,
      "height": null,
      "justify_content": null,
      "justify_items": null,
      "left": null,
      "margin": null,
      "max_height": null,
      "max_width": null,
      "min_height": null,
      "min_width": null,
      "object_fit": null,
      "object_position": null,
      "order": null,
      "overflow": null,
      "overflow_x": null,
      "overflow_y": null,
      "padding": null,
      "right": null,
      "top": null,
      "visibility": null,
      "width": null
     }
    },
    "e723f7053def48ee88cca741008c1480": {
     "model_module": "@jupyter-widgets/base",
     "model_name": "LayoutModel",
     "state": {
      "_model_module": "@jupyter-widgets/base",
      "_model_module_version": "1.2.0",
      "_model_name": "LayoutModel",
      "_view_count": null,
      "_view_module": "@jupyter-widgets/base",
      "_view_module_version": "1.2.0",
      "_view_name": "LayoutView",
      "align_content": null,
      "align_items": null,
      "align_self": null,
      "border": null,
      "bottom": null,
      "display": null,
      "flex": null,
      "flex_flow": null,
      "grid_area": null,
      "grid_auto_columns": null,
      "grid_auto_flow": null,
      "grid_auto_rows": null,
      "grid_column": null,
      "grid_gap": null,
      "grid_row": null,
      "grid_template_areas": null,
      "grid_template_columns": null,
      "grid_template_rows": null,
      "height": null,
      "justify_content": null,
      "justify_items": null,
      "left": null,
      "margin": null,
      "max_height": null,
      "max_width": null,
      "min_height": null,
      "min_width": null,
      "object_fit": null,
      "object_position": null,
      "order": null,
      "overflow": null,
      "overflow_x": null,
      "overflow_y": null,
      "padding": null,
      "right": null,
      "top": null,
      "visibility": null,
      "width": null
     }
    },
    "ed1738e2a1c54a60bf086dcef40abf8d": {
     "model_module": "@jupyter-widgets/controls",
     "model_name": "FloatProgressModel",
     "state": {
      "_dom_classes": [],
      "_model_module": "@jupyter-widgets/controls",
      "_model_module_version": "1.5.0",
      "_model_name": "FloatProgressModel",
      "_view_count": null,
      "_view_module": "@jupyter-widgets/controls",
      "_view_module_version": "1.5.0",
      "_view_name": "ProgressView",
      "bar_style": "",
      "description": "Optimization Progress: 100%",
      "description_tooltip": null,
      "layout": "IPY_MODEL_895114e7e02a47dcb28affa03aa1923b",
      "max": 150,
      "min": 0,
      "orientation": "horizontal",
      "style": "IPY_MODEL_3e03361ad22f438f8c5dd1875cbd9284",
      "value": 150
     }
    }
   }
  }
 },
 "nbformat": 4,
 "nbformat_minor": 1
}
