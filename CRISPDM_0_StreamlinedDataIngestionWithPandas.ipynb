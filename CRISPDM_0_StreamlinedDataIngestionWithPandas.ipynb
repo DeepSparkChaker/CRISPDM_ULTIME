{
 "cells": [
  {
   "cell_type": "markdown",
   "metadata": {},
   "source": [
    "# Streamlined Data Ingestion with pandas\n",
    "Before you can analyze data, you first have to acquire it. This course teaches you how to build pipelines to import data kept in common storage formats. You’ll use pandas, a major Python library for analytics, to get data from a variety of sources, from spreadsheets of survey responses, to a database of public service requests, to an API for a popular review site. Along the way, you’ll learn how to fine-tune imports to get only what you need and to address issues like incorrect data types. Finally, you’ll assemble a custom dataset from a mix of sources.\n",
    "\n",
    "## Get data from CSVs\n"
   ]
  },
  {
   "cell_type": "code",
   "execution_count": 14,
   "metadata": {},
   "outputs": [
    {
     "name": "stdout",
     "output_type": "stream",
     "text": [
      "   STATEFIPS STATE  zipcode  agi_stub      N1  mars1  MARS2  MARS4   PREP  \\\n",
      "0         50    VT        0         1  111580  85090  14170  10740  45360   \n",
      "1         50    VT        0         2   82760  51960  18820  11310  35600   \n",
      "2         50    VT        0         3   46270  19540  22650   3620  24140   \n",
      "3         50    VT        0         4   30070   5830  22190    960  16060   \n",
      "4         50    VT        0         5   39530   3900  33800    590  22500   \n",
      "\n",
      "       N2  ...  N10300  A10300  N85530  A85530  N85300  A85300  N11901  \\\n",
      "0  130630  ...   53660   50699       0       0       0       0   10820   \n",
      "1  132950  ...   74340  221146       0       0       0       0   12820   \n",
      "2   91870  ...   44860  266097       0       0       0       0   10810   \n",
      "3   71610  ...   29580  264678       0       0       0       0    7320   \n",
      "4  103710  ...   39170  731963      40      24       0       0   12500   \n",
      "\n",
      "   A11901  N11902  A11902  \n",
      "0    9734   88260  138337  \n",
      "1   20029   68760  151729  \n",
      "2   24499   34600   90583  \n",
      "3   21573   21300   67045  \n",
      "4   67761   23320  103034  \n",
      "\n",
      "[5 rows x 147 columns]\n"
     ]
    }
   ],
   "source": [
    "# Import pandas as pd\n",
    "import pandas  as pd\n",
    "\n",
    "# Read the CSV and assign it to the variable data\n",
    "data = pd.read_csv('C:/Users/rzouga/Desktop/ALLINHERE/ALLINHERE/NLP/Datacamp/vt_tax_data_2016.csv')\n",
    "\n",
    "# View the first few lines of data\n",
    "print(data.head())"
   ]
  },
  {
   "cell_type": "code",
   "execution_count": 17,
   "metadata": {},
   "outputs": [
    {
     "data": {
      "image/png": "[encoded data removed]",
      "text/plain": [
       "<Figure size 432x288 with 1 Axes>"
      ]
     },
     "metadata": {
      "needs_background": "light"
     },
     "output_type": "display_data"
    }
   ],
   "source": [
    "# Import pandas with the alias pd\n",
    "import pandas as pd\n",
    "import matplotlib.pyplot as plt\n",
    "# Plot the total number of tax returns by income group\n",
    "counts = data.groupby(\"agi_stub\")['N1'].sum()\n",
    "counts.plot.bar()\n",
    "plt.show()"
   ]
  },
  {
   "cell_type": "markdown",
   "metadata": {},
   "source": [
    "# Modifying flat file imports\n"
   ]
  },
  {
   "cell_type": "code",
   "execution_count": 20,
   "metadata": {},
   "outputs": [
    {
     "data": {
      "text/plain": [
       "(1476, 5)"
      ]
     },
     "execution_count": 20,
     "metadata": {},
     "output_type": "execute_result"
    }
   ],
   "source": [
    "data.shape"
   ]
  },
  {
   "cell_type": "code",
   "execution_count": 19,
   "metadata": {},
   "outputs": [
    {
     "name": "stdout",
     "output_type": "stream",
     "text": [
      "          zipcode   mars1  MARS2  NUMDEP\n",
      "agi_stub                                \n",
      "1         1439444  170320  28480   52490\n",
      "2         1439444  104000  37690   64660\n",
      "3         1439444   39160  45390   47330\n",
      "4         1439444   11670  44410   37760\n",
      "5         1439444    7820  67750   60730\n",
      "6         1439444    1210  16340   16300\n"
     ]
    }
   ],
   "source": [
    "# Create list of columns to use\n",
    "cols = ['zipcode','agi_stub','mars1','MARS2','NUMDEP']\n",
    "\n",
    "# Create data frame from csv using only selected columns\n",
    "data = pd.read_csv(\"C:/Users/rzouga/Desktop/ALLINHERE/ALLINHERE/NLP/Datacamp/vt_tax_data_2016.csv\", usecols=cols)\n",
    "\n",
    "# View counts of dependents and tax returns by income level\n",
    "print(data.groupby(\"agi_stub\").sum())"
   ]
  },
  {
   "cell_type": "markdown",
   "metadata": {},
   "source": [
    "==>There is a saying that rows are cheap, but columns are expensive. Limiting datasets to only variables of interest makes them more manageable and streamlines pipelines, but make sure you aren't losing confounding data in the process.\n",
    "\n",
    "# Import a file in chunks\n",
    "When working with large files, it can be easier to load and process the data in pieces. Let's practice this workflow on the Vermont tax data.\n",
    "\n",
    "The first 500 rows have been loaded as vt_data_first500. You'll get the next 500 rows. To do this, you'll employ several keyword arguments: nrows and skiprows to get the correct records, header to tell pandas the data does not have column names, and names to supply the missing column names. You'll also want to use the list() function to get column names from vt_data_first500 to reuse.\n",
    "\n",
    "pandas has been imported as pd"
   ]
  },
  {
   "cell_type": "code",
   "execution_count": null,
   "metadata": {},
   "outputs": [],
   "source": [
    "# Create data frame of next 500 rows with labeled columns\n",
    "vt_data_next500 = pd.read_csv(\"vt_tax_data_2016.csv\", \n",
    "                       \t\t  nrows=500,\n",
    "                       \t\t  skiprows=500,\n",
    "                       \t\t  header=None,\n",
    "                       \t\t  names=list(vt_data_first500))\n",
    "\n",
    "# View the Vermont data frames to confirm they're different\n",
    "print(vt_data_first500.head())\n",
    "print(vt_data_next500.head())"
   ]
  },
  {
   "cell_type": "markdown",
   "metadata": {},
   "source": [
    "# Handling errors and missing data\n",
    "##  Specify data types"
   ]
  },
  {
   "cell_type": "code",
   "execution_count": 21,
   "metadata": {},
   "outputs": [
    {
     "name": "stdout",
     "output_type": "stream",
     "text": [
      "zipcode     int64\n",
      "agi_stub    int64\n",
      "mars1       int64\n",
      "MARS2       int64\n",
      "NUMDEP      int64\n",
      "dtype: object\n"
     ]
    }
   ],
   "source": [
    "\n",
    "\n",
    "# Print the data types\n",
    "print(data.dtypes)"
   ]
  },
  {
   "cell_type": "code",
   "execution_count": 23,
   "metadata": {},
   "outputs": [
    {
     "name": "stdout",
     "output_type": "stream",
     "text": [
      "zipcode       object\n",
      "agi_stub    category\n",
      "mars1          int64\n",
      "MARS2          int64\n",
      "NUMDEP         int64\n",
      "dtype: object\n"
     ]
    }
   ],
   "source": [
    "# Create dict specifying data types for agi_stub and zipcode\n",
    "data_types = {\"agi_stub\": \"category\",\n",
    "\t\t\t  \"zipcode\": str}\n",
    "\n",
    "# Load csv using dtype to set correct data types\n",
    "data = pd.read_csv(\"C:/Users/rzouga/Desktop/ALLINHERE/ALLINHERE/NLP/Datacamp/vt_tax_data_2016.csv\", usecols=cols, dtype=data_types)\n",
    "\n",
    "# Print data types of resulting frame\n",
    "print(data.dtypes.head())"
   ]
  },
  {
   "cell_type": "markdown",
   "metadata": {},
   "source": [
    "# Set custom NA values\n",
    "Part of data exploration and cleaning consists of checking for missing or NA values and deciding how to account for them. This is easier when missing values are treated as their own data type. and there are pandas functions that specifically target such NA values. pandas automatically treats some values as missing, but we can pass additional NA indicators with the na_values argument. Here, you'll do this to ensure that invalid ZIP codes in the Vermont tax data are coded as NA.\n",
    "\n",
    "pandas has been imported as pd"
   ]
  },
  {
   "cell_type": "code",
   "execution_count": 25,
   "metadata": {},
   "outputs": [
    {
     "name": "stdout",
     "output_type": "stream",
     "text": [
      "   zipcode  agi_stub  mars1  MARS2  NUMDEP\n",
      "0      NaN         1  85090  14170   26200\n",
      "1      NaN         2  51960  18820   32310\n",
      "2      NaN         3  19540  22650   23610\n",
      "3      NaN         4   5830  22190   18860\n",
      "4      NaN         5   3900  33800   30330\n",
      "5      NaN         6    600   8150    8140\n"
     ]
    }
   ],
   "source": [
    "# Create dict specifying that 0s in zipcode are NA values\n",
    "null_values = {\"zipcode\":0}\n",
    "# Load csv using dtype to set correct data types\n",
    "data = pd.read_csv(\"C:/Users/rzouga/Desktop/ALLINHERE/ALLINHERE/NLP/Datacamp/vt_tax_data_2016.csv\", usecols=cols,  na_values=null_values)\n",
    "# View rows with NA ZIP codes\n",
    "print(data[data.zipcode.isna()])"
   ]
  },
  {
   "cell_type": "markdown",
   "metadata": {},
   "source": [
    "==>Now that NA values are marked as such, it's possible to use NA-specific functions to do things like count missing values, as we did here, or drop records with missing values.\n",
    "# Skip bad data\n",
    "In this exercise you'll use read_csv() parameters to handle files with bad data, like records with more values than columns. By default, trying to import such files triggers a specific error, pandas.io.common.CParserError.\n",
    "\n",
    "Some lines in the Vermont tax data here are corrupted. In order to load the good lines, we need to tell pandas to skip errors. We also want pandas to warn us when it skips a line so we know the scope of data issues.\n",
    "\n",
    "pandas has been imported as pd. The exercise code will try to read the file. If there is a pandas.io.common.CParserError, the code in the except block will run."
   ]
  },
  {
   "cell_type": "code",
   "execution_count": 26,
   "metadata": {},
   "outputs": [
    {
     "name": "stdout",
     "output_type": "stream",
     "text": [
      "   STATEFIPS STATE  zipcode  agi_stub      N1  mars1  MARS2  MARS4   PREP  \\\n",
      "0         50    VT        0         1  111580  85090  14170  10740  45360   \n",
      "1         50    VT        0         2   82760  51960  18820  11310  35600   \n",
      "2         50    VT        0         3   46270  19540  22650   3620  24140   \n",
      "3         50    VT        0         4   30070   5830  22190    960  16060   \n",
      "4         50    VT        0         5   39530   3900  33800    590  22500   \n",
      "\n",
      "       N2  ...  N10300  A10300  N85530  A85530  N85300  A85300  N11901  \\\n",
      "0  130630  ...   53660   50699       0       0       0       0   10820   \n",
      "1  132950  ...   74340  221146       0       0       0       0   12820   \n",
      "2   91870  ...   44860  266097       0       0       0       0   10810   \n",
      "3   71610  ...   29580  264678       0       0       0       0    7320   \n",
      "4  103710  ...   39170  731963      40      24       0       0   12500   \n",
      "\n",
      "   A11901  N11902  A11902  \n",
      "0    9734   88260  138337  \n",
      "1   20029   68760  151729  \n",
      "2   24499   34600   90583  \n",
      "3   21573   21300   67045  \n",
      "4   67761   23320  103034  \n",
      "\n",
      "[5 rows x 147 columns]\n"
     ]
    }
   ],
   "source": [
    "try:\n",
    "    # Import the CSV without any keyword arguments\n",
    "    data =pd.read_csv(\"C:/Users/rzouga/Desktop/ALLINHERE/ALLINHERE/NLP/Datacamp/vt_tax_data_2016.csv\")\n",
    "    # View first 5 records\n",
    "    print(data.head())\n",
    "except pd.io.common.CParserError:\n",
    "    print(\"Your data contained rows that could not be parsed.\")"
   ]
  },
  {
   "cell_type": "code",
   "execution_count": 29,
   "metadata": {},
   "outputs": [
    {
     "name": "stdout",
     "output_type": "stream",
     "text": [
      "   STATEFIPS STATE  zipcode  agi_stub      N1  mars1  MARS2  MARS4   PREP  \\\n",
      "0         50    VT        0         1  111580  85090  14170  10740  45360   \n",
      "1         50    VT        0         2   82760  51960  18820  11310  35600   \n",
      "\n",
      "       N2  ...  N10300  A10300  N85530  A85530  N85300  A85300  N11901  \\\n",
      "0  130630  ...   53660   50699       0       0       0       0   10820   \n",
      "1  132950  ...   74340  221146       0       0       0       0   12820   \n",
      "\n",
      "   A11901  N11902  A11902  \n",
      "0    9734   88260  138337  \n",
      "1   20029   68760  151729  \n",
      "\n",
      "[2 rows x 147 columns]\n"
     ]
    }
   ],
   "source": [
    "\"\"\"Import vt_tax_data_2016_corrupt.csv with the error_bad_lines parameter set to skip bad records.\n",
    "\n",
    "    Update the import with the warn_bad_lines parameter set to issue a warning whenever a bad record is skipped\"\"\"\n",
    "try:\n",
    "    # Set warn_bad_lines to issue warnings about bad records\n",
    "    data = pd.read_csv(\"C:/Users/rzouga/Desktop/ALLINHERE/ALLINHERE/NLP/Datacamp/vt_tax_data_2016.csv\", \n",
    "                     error_bad_lines=False, \n",
    "                     warn_bad_lines=True)\n",
    "\n",
    "    # View first 5 records\n",
    "    print(data.head(2))\n",
    "except pd.io.common.CParserError:\n",
    "    print(\"Your data contained rows that could not be parsed.\")"
   ]
  },
  {
   "cell_type": "markdown",
   "metadata": {},
   "source": [
    "# Introduction to spreadsheets\n"
   ]
  },
  {
   "cell_type": "markdown",
   "metadata": {},
   "source": [
    "# Get data from a spreadsheet\n",
    "In this exercise, you'll create a data frame from a \"base case\" Excel file: one with a single sheet of tabular data. The fcc_survey.xlsx file here has a sample of responses from FreeCodeCamp's annual New Developer Survey. This survey asks participants about their demographics, education, work and home life, plus questions about how they're learning to code. Let's load all of it.\n",
    "\n",
    "pandas has not been pre-loaded in this exercise, so you'll need to import it yourself before using read_excel() to load the spreadsheet."
   ]
  },
  {
   "cell_type": "code",
   "execution_count": 32,
   "metadata": {},
   "outputs": [
    {
     "name": "stdout",
     "output_type": "stream",
     "text": [
      "   FreeCodeCamp New Developer Survey Responses, 2016        Unnamed: 1  \\\n",
      "0  Source: https://www.kaggle.com/freecodecamp/20...               NaN   \n",
      "1                                                Age  AttendedBootcamp   \n",
      "2                                                 28                 0   \n",
      "\n",
      "       Unnamed: 2         Unnamed: 3    Unnamed: 4         Unnamed: 5  \\\n",
      "0             NaN                NaN           NaN                NaN   \n",
      "1  BootcampFinish  BootcampLoanYesNo  BootcampName  BootcampRecommend   \n",
      "2             NaN                NaN           NaN                NaN   \n",
      "\n",
      "       Unnamed: 6                     Unnamed: 7            Unnamed: 8  \\\n",
      "0             NaN                            NaN                   NaN   \n",
      "1  ChildrenNumber                 CityPopulation  CodeEventConferences   \n",
      "2             NaN  between 100,000 and 1 million                   NaN   \n",
      "\n",
      "             Unnamed: 9  ...          Unnamed: 88         Unnamed: 89  \\\n",
      "0                   NaN  ...                  NaN                 NaN   \n",
      "1  CodeEventDjangoGirls  ...  ResourcePluralSight  ResourceSkillCrush   \n",
      "2                   NaN  ...                  NaN                 NaN   \n",
      "\n",
      "             Unnamed: 90        Unnamed: 91      Unnamed: 92    Unnamed: 93  \\\n",
      "0                    NaN                NaN              NaN            NaN   \n",
      "1  ResourceStackOverflow  ResourceTreehouse  ResourceUdacity  ResourceUdemy   \n",
      "2                    NaN                NaN              NaN            NaN   \n",
      "\n",
      "         Unnamed: 94                     Unnamed: 95  Unnamed: 96  \\\n",
      "0                NaN                             NaN          NaN   \n",
      "1  ResourceW3Schools                    SchoolDegree  SchoolMajor   \n",
      "2                NaN  some college credit, no degree          NaN   \n",
      "\n",
      "      Unnamed: 97  \n",
      "0             NaN  \n",
      "1  StudentDebtOwe  \n",
      "2           20000  \n",
      "\n",
      "[3 rows x 98 columns]\n"
     ]
    }
   ],
   "source": [
    "# Load pandas as pd\n",
    "import pandas as pd\n",
    "# Read spreadsheet and assign it to survey_responses\n",
    "survey_responses = pd.read_excel('C:/Users/rzouga/Desktop/ALLINHERE/ALLINHERE/NLP/Datacamp/fcc-new-coder-survey.xlsx')\n",
    "# View the head of the data frame\n",
    "print(survey_responses.head(3))"
   ]
  },
  {
   "cell_type": "code",
   "execution_count": 34,
   "metadata": {},
   "outputs": [
    {
     "name": "stdout",
     "output_type": "stream",
     "text": [
      "Index(['ExpectedEarning', 'JobApplyWhen', 'JobPref', 'JobRelocateYesNo',\n",
      "       'JobRoleInterest', 'JobWherePref'],\n",
      "      dtype='object')\n"
     ]
    }
   ],
   "source": [
    "# Create string of lettered columns to load\n",
    "col_string = \"AD, AW:BA\"\n",
    "\n",
    "# Load data with skiprows and usecols set\n",
    "survey_responses = pd.read_excel('C:/Users/rzouga/Desktop/ALLINHERE/ALLINHERE/NLP/Datacamp/fcc-new-coder-survey.xlsx', \n",
    "                                 skiprows=2, \n",
    "                                 usecols=col_string)\n",
    "\n",
    "# View the names of the columns selected\n",
    "print(survey_responses.columns)"
   ]
  },
  {
   "cell_type": "markdown",
   "metadata": {},
   "source": [
    "# Getting data from multiple worksheets\n",
    "## Select a single sheet\n"
   ]
  },
  {
   "cell_type": "code",
   "execution_count": 39,
   "metadata": {},
   "outputs": [
    {
     "name": "stdout",
     "output_type": "stream",
     "text": [
      "Index(['Age', 'AttendedBootcamp', 'BootcampFinish', 'BootcampLoanYesNo',\n",
      "       'BootcampName', 'BootcampRecommend', 'ChildrenNumber', 'CityPopulation',\n",
      "       'CodeEventConferences', 'CodeEventDjangoGirls', 'CodeEventGameJam',\n",
      "       'CodeEventGirlDev', 'CodeEventHackathons', 'CodeEventMeetup',\n",
      "       'CodeEventNodeSchool', 'CodeEventNone', 'CodeEventOther',\n",
      "       'CodeEventRailsBridge', 'CodeEventRailsGirls', 'CodeEventStartUpWknd',\n",
      "       'CodeEventWomenCode', 'CodeEventWorkshop', 'CommuteTime',\n",
      "       'CountryCitizen', 'CountryLive', 'EmploymentField',\n",
      "       'EmploymentFieldOther', 'EmploymentStatus', 'EmploymentStatusOther',\n",
      "       'ExpectedEarning', 'FinanciallySupporting', 'Gender', 'HasChildren',\n",
      "       'HasDebt', 'HasFinancialDependents', 'HasHighSpdInternet',\n",
      "       'HasHomeMortgage', 'HasServedInMilitary', 'HasStudentDebt',\n",
      "       'HomeMortgageOwe', 'HoursLearning', 'ID.x', 'ID.y', 'Income',\n",
      "       'IsEthnicMinority', 'IsReceiveDisabilitiesBenefits', 'IsSoftwareDev',\n",
      "       'IsUnderEmployed', 'JobApplyWhen', 'JobPref', 'JobRelocateYesNo',\n",
      "       'JobRoleInterest', 'JobWherePref', 'LanguageAtHome', 'MaritalStatus',\n",
      "       'MoneyForLearning', 'MonthsProgramming', 'NetworkID', 'Part1EndTime',\n",
      "       'Part1StartTime', 'Part2EndTime', 'Part2StartTime', 'PodcastChangeLog',\n",
      "       'PodcastCodeNewbie', 'PodcastDeveloperTea', 'PodcastDotNetRocks',\n",
      "       'PodcastJsAir', 'PodcastJSJabber', 'PodcastNone', 'PodcastOther',\n",
      "       'PodcastProgrammingThrowDown', 'PodcastRubyRogues', 'PodcastSEDaily',\n",
      "       'PodcastShopTalk', 'PodcastTalkPython', 'PodcastWebAhead',\n",
      "       'ResourceCodecademy', 'ResourceCodeWars', 'ResourceCoursera',\n",
      "       'ResourceEdX', 'ResourceEggHead', 'ResourceFCC', 'ResourceHackerRank',\n",
      "       'ResourceKhanAcademy', 'ResourceLynda', 'ResourceMDN',\n",
      "       'ResourceOdinProj', 'ResourceOther', 'ResourcePluralSight',\n",
      "       'ResourceSkillCrush', 'ResourceStackOverflow', 'ResourceTreehouse',\n",
      "       'ResourceUdacity', 'ResourceUdemy', 'ResourceW3Schools', 'SchoolDegree',\n",
      "       'SchoolMajor', 'StudentDebtOwe'],\n",
      "      dtype='object')\n"
     ]
    },
    {
     "data": {
      "image/png": "[encoded data removed]",
      "text/plain": [
       "<Figure size 432x288 with 1 Axes>"
      ]
     },
     "metadata": {
      "needs_background": "light"
     },
     "output_type": "display_data"
    }
   ],
   "source": [
    "# Create df from second worksheet by referencing its position\n",
    "responses_2017 = pd.read_excel('C:/Users/rzouga/Desktop/ALLINHERE/ALLINHERE/NLP/Datacamp/fcc-new-coder-survey.xlsx',\n",
    "                               skiprows=2,\n",
    "                               sheet_name=1)\n",
    "print(responses_2017.columns)\n",
    "# Graph where people would like to get a developer job\n",
    "job_prefs = responses_2017.groupby(\"JobPref\").JobPref.count()\n",
    "job_prefs.plot.barh()\n",
    "plt.show()"
   ]
  },
  {
   "cell_type": "code",
   "execution_count": 41,
   "metadata": {},
   "outputs": [
    {
     "name": "stdout",
     "output_type": "stream",
     "text": [
      "<class 'dict'>\n"
     ]
    }
   ],
   "source": [
    "# Load both the 2016 and 2017 sheets by name\n",
    "all_survey_data = pd.read_excel('C:/Users/rzouga/Desktop/ALLINHERE/ALLINHERE/NLP/Datacamp/fcc-new-coder-survey.xlsx',\n",
    "                               skiprows=2,\n",
    "                                sheet_name=['2016', '2017'])\n",
    "\n",
    "# View the data type of all_survey_data\n",
    "print(type(all_survey_data))"
   ]
  },
  {
   "cell_type": "code",
   "execution_count": 42,
   "metadata": {},
   "outputs": [
    {
     "name": "stdout",
     "output_type": "stream",
     "text": [
      "dict_keys(['2016', '2017'])\n"
     ]
    }
   ],
   "source": [
    "# Load all sheets in the Excel file\n",
    "all_survey_data = pd.read_excel('C:/Users/rzouga/Desktop/ALLINHERE/ALLINHERE/NLP/Datacamp/fcc-new-coder-survey.xlsx',\n",
    "                               skiprows=2,\n",
    "                                sheet_name=None)\n",
    "\n",
    "# View the sheet names in all_survey_data\n",
    "print(all_survey_data.keys())"
   ]
  },
  {
   "cell_type": "code",
   "execution_count": 43,
   "metadata": {},
   "outputs": [
    {
     "name": "stdout",
     "output_type": "stream",
     "text": [
      "Adding 1000 rows\n",
      "Adding 1000 rows\n"
     ]
    },
    {
     "data": {
      "image/png": "[encoded data removed]",
      "text/plain": [
       "<Figure size 432x288 with 1 Axes>"
      ]
     },
     "metadata": {
      "needs_background": "light"
     },
     "output_type": "display_data"
    }
   ],
   "source": [
    "# Create an empty data frame\n",
    "all_responses = pd.DataFrame()\n",
    "\n",
    "# Set up for loop to iterate through values in responses\n",
    "for df in all_survey_data.values():\n",
    "  # Print the number of rows being added\n",
    "  print(\"Adding {} rows\".format(df.shape[0]))\n",
    "  # Append df to all_responses, assign result\n",
    "  all_responses = all_responses.append(df)\n",
    "\n",
    "# Graph employment statuses in sample\n",
    "counts = all_responses.groupby(\"EmploymentStatus\").EmploymentStatus.count()\n",
    "counts.plot.barh()\n",
    "plt.show()"
   ]
  },
  {
   "cell_type": "markdown",
   "metadata": {},
   "source": [
    "# Modifying imports: true/false data\n",
    "## Set Boolean columns\n"
   ]
  },
  {
   "cell_type": "code",
   "execution_count": null,
   "metadata": {},
   "outputs": [],
   "source": [
    "# Load the data\n",
    "survey_data = pd.read_excel(\"fcc_survey_subset.xlsx\")\n",
    "\n",
    "# Count NA values in each column\n",
    "print(survey_data.isna().sum())"
   ]
  },
  {
   "cell_type": "code",
   "execution_count": null,
   "metadata": {},
   "outputs": [],
   "source": [
    "# Set dtype to load appropriate column(s) as Boolean data\n",
    "survey_data = pd.read_excel(\"fcc_survey_subset.xlsx\",\n",
    "                            dtype={\"HasDebt\": bool})\n",
    "\n",
    "# View financial burdens by Boolean group\n",
    "print(survey_data.groupby(\"HasDebt\").sum())"
   ]
  },
  {
   "cell_type": "code",
   "execution_count": null,
   "metadata": {},
   "outputs": [],
   "source": [
    "# Load file with Yes as a True value and No as a False value\n",
    "survey_subset = pd.read_excel(\"fcc_survey_yn_data.xlsx\",\n",
    "                              dtype={\"HasDebt\": bool,\n",
    "                              \"AttendedBootCampYesNo\": bool},\n",
    "                              true_values=[\"Yes\"],\n",
    "                              false_values=[\"No\"])\n",
    "\n",
    "# View the data\n",
    "print(survey_subset.head())"
   ]
  },
  {
   "cell_type": "markdown",
   "metadata": {},
   "source": [
    "# Modifying imports: parsing dates\n"
   ]
  },
  {
   "cell_type": "code",
   "execution_count": 44,
   "metadata": {},
   "outputs": [
    {
     "name": "stdout",
     "output_type": "stream",
     "text": [
      "datetime64[ns]\n"
     ]
    }
   ],
   "source": [
    "# Load file, with Part1StartTime parsed as datetime data\n",
    "survey_data = pd.read_excel('C:/Users/rzouga/Desktop/ALLINHERE/ALLINHERE/NLP/Datacamp/fcc-new-coder-survey.xlsx',\n",
    "                               skiprows=2,\n",
    "                            parse_dates=['Part1StartTime'])\n",
    "\n",
    "# Print first few values of Part1StartTime\n",
    "print(survey_data.Part1StartTime.dtype)"
   ]
  },
  {
   "cell_type": "code",
   "execution_count": 45,
   "metadata": {
    "scrolled": true
   },
   "outputs": [
    {
     "name": "stdout",
     "output_type": "stream",
     "text": [
      "0   2016-03-29 21:23:13\n",
      "1   2016-03-29 21:24:59\n",
      "2   2016-03-29 21:25:37\n",
      "3   2016-03-29 21:21:37\n",
      "4   2016-03-29 21:26:22\n",
      "Name: Part1StartTime, dtype: datetime64[ns]\n"
     ]
    }
   ],
   "source": [
    "# Print first few values of Part1StartTime\n",
    "print(survey_data.Part1StartTime.head())"
   ]
  },
  {
   "cell_type": "code",
   "execution_count": null,
   "metadata": {},
   "outputs": [],
   "source": [
    "# Create dict of columns to combine into new datetime column\n",
    "datetime_cols = {\"Part2Start\": [\"Part2StartDate\",\"Part2StartTime\"]}\n",
    "\n",
    "\n",
    "# Load file, supplying the dict to parse_dates\n",
    "survey_data = pd.read_excel('C:/Users/rzouga/Desktop/ALLINHERE/ALLINHERE/NLP/Datacamp/fcc-new-coder-survey.xlsx',\n",
    "                               skiprows=2,\n",
    "                           parse_dates= datetime_cols)\n",
    "\n",
    "# View summary statistics about Part2Start\n",
    "print(survey_data.Part2Start.describe())"
   ]
  },
  {
   "cell_type": "markdown",
   "metadata": {},
   "source": [
    "# Parse non-standard date formats\n",
    "https://strftime.org/"
   ]
  },
  {
   "cell_type": "code",
   "execution_count": null,
   "metadata": {},
   "outputs": [],
   "source": [
    "# Parse datetimes and assign result back to Part2EndTime\n",
    "survey_data[\"Part2EndTime\"] = pd.to_datetime(survey_data[\"Part2EndTime\"], \n",
    "                                             format=\"%m%d%Y %H:%M:%S\")"
   ]
  },
  {
   "cell_type": "markdown",
   "metadata": {},
   "source": [
    "# Introduction to databases\n",
    "## Connect to a database\n"
   ]
  },
  {
   "cell_type": "code",
   "execution_count": 52,
   "metadata": {},
   "outputs": [
    {
     "data": {
      "text/plain": [
       "<module 'sqlalchemy' from 'C:\\\\Users\\\\rzouga\\\\Anaconda3\\\\lib\\\\site-packages\\\\sqlalchemy\\\\__init__.py'>"
      ]
     },
     "execution_count": 52,
     "metadata": {},
     "output_type": "execute_result"
    }
   ],
   "source": [
    "import sqlalchemy\n",
    "sqlalchemy"
   ]
  },
  {
   "cell_type": "code",
   "execution_count": 53,
   "metadata": {},
   "outputs": [
    {
     "name": "stdout",
     "output_type": "stream",
     "text": [
      "['boro_census', 'hpd311calls', 'weather']\n"
     ]
    }
   ],
   "source": [
    "# Import sqlalchemy's create_engine() function\n",
    "from sqlalchemy import create_engine\n",
    "\n",
    "# Create the database engine\n",
    "engine = create_engine(\"sqlite:///C:/Users/rzouga/Desktop/ALLINHERE/ALLINHERE/NLP/Datacamp/data.db\")\n",
    "\n",
    "# View the tables in the database\n",
    "print(engine.table_names())"
   ]
  },
  {
   "cell_type": "markdown",
   "metadata": {},
   "source": [
    "==>Well done! sqlalchemy is a powerful library that can be used with pandas to both query databases for analysis and write results back to database tables"
   ]
  },
  {
   "cell_type": "code",
   "execution_count": 54,
   "metadata": {},
   "outputs": [
    {
     "name": "stdout",
     "output_type": "stream",
     "text": [
      "  unique_key created_date agency  complaint_type incident_zip  \\\n",
      "0   38070822   01/01/2018    HPD  HEAT/HOT WATER        10468   \n",
      "1   38065299   01/01/2018    HPD        PLUMBING        10003   \n",
      "2   38066653   01/01/2018    HPD  HEAT/HOT WATER        10452   \n",
      "3   38070264   01/01/2018    HPD  HEAT/HOT WATER        10032   \n",
      "4   38072466   01/01/2018    HPD  HEAT/HOT WATER        11213   \n",
      "\n",
      "       incident_address community_board    borough  \n",
      "0    2786 JEROME AVENUE        07 BRONX      BRONX  \n",
      "1  323 EAST   12 STREET    03 MANHATTAN  MANHATTAN  \n",
      "2  1235 GRAND CONCOURSE        04 BRONX      BRONX  \n",
      "3  656 WEST  171 STREET    12 MANHATTAN  MANHATTAN  \n",
      "4       1030 PARK PLACE     08 BROOKLYN   BROOKLYN  \n"
     ]
    }
   ],
   "source": [
    "# Load libraries\n",
    "import pandas as pd\n",
    "from sqlalchemy import create_engine\n",
    "\n",
    "# Create the database engine\n",
    "engine = create_engine('sqlite:///data.db')\n",
    "\n",
    "# Load hpd311calls without any SQL\n",
    "hpd_calls = pd.read_sql(\"hpd311calls\", engine)\n",
    "\n",
    "# View the first few rows of data\n",
    "print(hpd_calls.head())"
   ]
  },
  {
   "cell_type": "code",
   "execution_count": 55,
   "metadata": {},
   "outputs": [
    {
     "name": "stdout",
     "output_type": "stream",
     "text": [
      "       station                         name  latitude  longitude  elevation  \\\n",
      "0  USW00094728  NY CITY CENTRAL PARK, NY US  40.77898  -73.96925       42.7   \n",
      "1  USW00094728  NY CITY CENTRAL PARK, NY US  40.77898  -73.96925       42.7   \n",
      "2  USW00094728  NY CITY CENTRAL PARK, NY US  40.77898  -73.96925       42.7   \n",
      "3  USW00094728  NY CITY CENTRAL PARK, NY US  40.77898  -73.96925       42.7   \n",
      "4  USW00094728  NY CITY CENTRAL PARK, NY US  40.77898  -73.96925       42.7   \n",
      "\n",
      "         date     month  awnd  prcp  snow tavg  tmax  tmin  \n",
      "0  12/01/2017  December  5.37  0.00   0.0         52    42  \n",
      "1  12/02/2017  December  3.13  0.00   0.0         48    39  \n",
      "2  12/03/2017  December  2.01  0.00   0.0         48    42  \n",
      "3  12/04/2017  December  3.58  0.00   0.0         51    40  \n",
      "4  12/05/2017  December  6.71  0.75   0.0         61    50  \n"
     ]
    }
   ],
   "source": [
    "# Create the database engine\n",
    "engine = create_engine(\"sqlite:///data.db\")\n",
    "\n",
    "# Create a SQL query to load the entire weather table\n",
    "query = \"\"\"\n",
    "SELECT * \n",
    "  FROM weather;\n",
    "\"\"\"\n",
    "\n",
    "# Load weather with the SQL query\n",
    "weather = pd.read_sql(query, engine)\n",
    "\n",
    "# View the first few rows of data\n",
    "print(weather.head())"
   ]
  },
  {
   "cell_type": "markdown",
   "metadata": {},
   "source": [
    "While it's convenient to load tables by name alone, using SQL queries makes it possible to fine-tune imports at the data acquisition phase of an analysis project.\n",
    "# Refining imports with SQL queries\n"
   ]
  },
  {
   "cell_type": "code",
   "execution_count": 56,
   "metadata": {},
   "outputs": [
    {
     "name": "stdout",
     "output_type": "stream",
     "text": [
      "           date  tmax  tmin\n",
      "0    12/01/2017    52    42\n",
      "1    12/02/2017    48    39\n",
      "2    12/03/2017    48    42\n",
      "3    12/04/2017    51    40\n",
      "4    12/05/2017    61    50\n",
      "..          ...   ...   ...\n",
      "116  03/27/2018    47    34\n",
      "117  03/28/2018    52    38\n",
      "118  03/29/2018    53    49\n",
      "119  03/30/2018    62    44\n",
      "120  03/31/2018    58    39\n",
      "\n",
      "[121 rows x 3 columns]\n"
     ]
    }
   ],
   "source": [
    "# Create database engine for data.db\n",
    "engine = create_engine(\"sqlite:///data.db\")\n",
    "\n",
    "# Write query to get date, tmax, and tmin from weather\n",
    "query = \"\"\"\n",
    "SELECT date, \n",
    "       tmax, \n",
    "       tmin\n",
    "  FROM weather;\n",
    "\"\"\"\n",
    "\n",
    "# Make a data frame by passing query and engine to read_sql()\n",
    "temperatures = pd.read_sql(query,engine)\n",
    "\n",
    "# View the resulting data frame\n",
    "print(temperatures)\n"
   ]
  },
  {
   "cell_type": "markdown",
   "metadata": {},
   "source": [
    "==>Selecting columns is useful when you only want a few columns from a table. If you want most of the columns, it may be easier to load them all and then use pandas to drop unwanted columns."
   ]
  },
  {
   "cell_type": "code",
   "execution_count": 58,
   "metadata": {},
   "outputs": [
    {
     "data": {
      "image/png": "[encoded data removed]",
      "text/plain": [
       "<Figure size 432x288 with 1 Axes>"
      ]
     },
     "metadata": {
      "needs_background": "light"
     },
     "output_type": "display_data"
    }
   ],
   "source": [
    "# Create query to get hpd311calls records about safety\n",
    "query = \"\"\"SELECT *\n",
    "\t\t     FROM hpd311calls\n",
    "            WHERE complaint_type = 'SAFETY';\"\"\"\n",
    "\n",
    "# Query the database and assign result to safety_calls\n",
    "safety_calls = pd.read_sql(query, engine)\n",
    "\n",
    "# Graph the number of safety calls by borough\n",
    "call_counts = safety_calls.groupby('borough').unique_key.count()\n",
    "call_counts.plot.barh()\n",
    "plt.show()"
   ]
  },
  {
   "cell_type": "markdown",
   "metadata": {},
   "source": [
    "## Filtering on multiple conditions"
   ]
  },
  {
   "cell_type": "code",
   "execution_count": 59,
   "metadata": {},
   "outputs": [
    {
     "name": "stdout",
     "output_type": "stream",
     "text": [
      "           latitude     longitude     elevation       awnd      prcp  \\\n",
      "count  2.500000e+01  2.500000e+01  2.500000e+01  25.000000  25.00000   \n",
      "mean   4.077898e+01 -7.396925e+01  4.270000e+01   7.739600   0.17600   \n",
      "std    2.175584e-14  4.351168e-14  1.450389e-14   2.621778   0.36947   \n",
      "min    4.077898e+01 -7.396925e+01  4.270000e+01   3.130000   0.00000   \n",
      "25%    4.077898e+01 -7.396925e+01  4.270000e+01   5.820000   0.00000   \n",
      "50%    4.077898e+01 -7.396925e+01  4.270000e+01   7.830000   0.00000   \n",
      "75%    4.077898e+01 -7.396925e+01  4.270000e+01   9.170000   0.09000   \n",
      "max    4.077898e+01 -7.396925e+01  4.270000e+01  12.970000   1.41000   \n",
      "\n",
      "            snow       tmax       tmin  \n",
      "count  25.000000  25.000000  25.000000  \n",
      "mean    1.332000  27.320000  17.160000  \n",
      "std     2.685256   7.122266   7.673982  \n",
      "min     0.000000  13.000000   5.000000  \n",
      "25%     0.000000  22.000000  11.000000  \n",
      "50%     0.000000  28.000000  17.000000  \n",
      "75%     1.200000  31.000000  20.000000  \n",
      "max     9.800000  40.000000  33.000000  \n"
     ]
    }
   ],
   "source": [
    "# Create query for records with max temps <= 32 or snow >= 1\n",
    "query = \"\"\"\n",
    "SELECT * \n",
    "  FROM weather\n",
    " WHERE tmax <= 32\n",
    "    OR snow >= 1;\n",
    "\"\"\"\n",
    "\n",
    "# Query database and assign result to wintry_days\n",
    "wintry_days = pd.read_sql(query, engine)\n",
    "\n",
    "# View summary stats about the temperatures\n",
    "print(wintry_days.describe())"
   ]
  },
  {
   "cell_type": "markdown",
   "metadata": {},
   "source": [
    "# Getting distinct values"
   ]
  },
  {
   "cell_type": "code",
   "execution_count": 60,
   "metadata": {},
   "outputs": [
    {
     "name": "stdout",
     "output_type": "stream",
     "text": [
      "          borough    complaint_type\n",
      "0           BRONX    HEAT/HOT WATER\n",
      "1       MANHATTAN          PLUMBING\n",
      "2       MANHATTAN    HEAT/HOT WATER\n",
      "3        BROOKLYN    HEAT/HOT WATER\n",
      "4          QUEENS    HEAT/HOT WATER\n",
      "..            ...               ...\n",
      "60      MANHATTAN  OUTSIDE BUILDING\n",
      "61      MANHATTAN          ELEVATOR\n",
      "62       BROOKLYN  OUTSIDE BUILDING\n",
      "63  STATEN ISLAND            SAFETY\n",
      "64  STATEN ISLAND  OUTSIDE BUILDING\n",
      "\n",
      "[65 rows x 2 columns]\n"
     ]
    }
   ],
   "source": [
    "# Create query for unique combinations of borough and complaint_type\n",
    "query = \"\"\"\n",
    "SELECT DISTINCT borough, \n",
    "       complaint_type\n",
    "  FROM hpd311calls;\n",
    "\"\"\"\n",
    "\n",
    "# Load results of query to a data frame\n",
    "issues_and_boros = pd.read_sql(query, engine )\n",
    "# Check assumption about issues and boroughs\n",
    "print(issues_and_boros)"
   ]
  },
  {
   "cell_type": "markdown",
   "metadata": {},
   "source": [
    "# Counting in groups"
   ]
  },
  {
   "cell_type": "code",
   "execution_count": 61,
   "metadata": {},
   "outputs": [
    {
     "data": {
      "image/png": "[encoded data removed]",
      "text/plain": [
       "<Figure size 432x288 with 1 Axes>"
      ]
     },
     "metadata": {
      "needs_background": "light"
     },
     "output_type": "display_data"
    }
   ],
   "source": [
    "# Create query to get call counts by complaint_type\n",
    "query = \"\"\"\n",
    "SELECT complaint_type, \n",
    "       COUNT(*)\n",
    "  FROM hpd311calls\n",
    " GROUP BY complaint_type;\n",
    "\"\"\"\n",
    "\n",
    "# Create data frame of call counts by issue\n",
    "calls_by_issue = pd.read_sql(query, engine)\n",
    "\n",
    "# Graph the number of calls for each housing issue\n",
    "calls_by_issue.plot.barh(x=\"complaint_type\")\n",
    "plt.show()"
   ]
  },
  {
   "cell_type": "markdown",
   "metadata": {},
   "source": [
    "# Working with aggregate functions"
   ]
  },
  {
   "cell_type": "code",
   "execution_count": 65,
   "metadata": {},
   "outputs": [
    {
     "name": "stdout",
     "output_type": "stream",
     "text": [
      "      month  MAX(tmax)  MIN(tmin)  SUM(prcp)\n",
      "0  December         61          9       2.21\n",
      "1  February         78         16       5.83\n",
      "2   January         61          5       2.18\n",
      "3     March         62         27       5.17\n"
     ]
    }
   ],
   "source": [
    "# Create query to get temperature and precipitation by month\n",
    "query = \"\"\"\n",
    "SELECT month, \n",
    "        MAX(tmax), \n",
    "        MIN(tmin),\n",
    "        SUM(prcp)\n",
    "  FROM weather \n",
    " GROUP BY month;\n",
    "\"\"\"\n",
    "\n",
    "# Get data frame of monthly weather stats\n",
    "weather_by_month = pd.read_sql(query, engine)\n",
    "\n",
    "# View weather stats by month\n",
    "print(weather_by_month)"
   ]
  },
  {
   "cell_type": "markdown",
   "metadata": {},
   "source": [
    "# Loading multiple tables with joins\n",
    "## Joining tables\n"
   ]
  },
  {
   "cell_type": "code",
   "execution_count": 66,
   "metadata": {},
   "outputs": [
    {
     "name": "stdout",
     "output_type": "stream",
     "text": [
      "  unique_key created_date agency  complaint_type incident_zip  \\\n",
      "0   38070822   01/01/2018    HPD  HEAT/HOT WATER        10468   \n",
      "1   38065299   01/01/2018    HPD        PLUMBING        10003   \n",
      "2   38066653   01/01/2018    HPD  HEAT/HOT WATER        10452   \n",
      "3   38070264   01/01/2018    HPD  HEAT/HOT WATER        10032   \n",
      "4   38072466   01/01/2018    HPD  HEAT/HOT WATER        11213   \n",
      "\n",
      "       incident_address community_board    borough      station  \\\n",
      "0    2786 JEROME AVENUE        07 BRONX      BRONX  USW00094728   \n",
      "1  323 EAST   12 STREET    03 MANHATTAN  MANHATTAN  USW00094728   \n",
      "2  1235 GRAND CONCOURSE        04 BRONX      BRONX  USW00094728   \n",
      "3  656 WEST  171 STREET    12 MANHATTAN  MANHATTAN  USW00094728   \n",
      "4       1030 PARK PLACE     08 BROOKLYN   BROOKLYN  USW00094728   \n",
      "\n",
      "                          name  ...  longitude  elevation        date  \\\n",
      "0  NY CITY CENTRAL PARK, NY US  ...  -73.96925       42.7  01/01/2018   \n",
      "1  NY CITY CENTRAL PARK, NY US  ...  -73.96925       42.7  01/01/2018   \n",
      "2  NY CITY CENTRAL PARK, NY US  ...  -73.96925       42.7  01/01/2018   \n",
      "3  NY CITY CENTRAL PARK, NY US  ...  -73.96925       42.7  01/01/2018   \n",
      "4  NY CITY CENTRAL PARK, NY US  ...  -73.96925       42.7  01/01/2018   \n",
      "\n",
      "     month  awnd  prcp  snow  tavg tmax  tmin  \n",
      "0  January  7.83   0.0   0.0         19     7  \n",
      "1  January  7.83   0.0   0.0         19     7  \n",
      "2  January  7.83   0.0   0.0         19     7  \n",
      "3  January  7.83   0.0   0.0         19     7  \n",
      "4  January  7.83   0.0   0.0         19     7  \n",
      "\n",
      "[5 rows x 21 columns]\n"
     ]
    }
   ],
   "source": [
    "# Query to join weather to call records by date columns\n",
    "query = \"\"\"\n",
    "SELECT * \n",
    "  FROM hpd311calls\n",
    "  JOIN weather \n",
    "  ON hpd311calls.created_date = weather.date;\n",
    "\"\"\"\n",
    "\n",
    "# Create data frame of joined tables\n",
    "calls_with_weather = pd.read_sql(query, engine)\n",
    "\n",
    "# View the data frame to make sure all columns were joined\n",
    "print(calls_with_weather.head())"
   ]
  },
  {
   "cell_type": "markdown",
   "metadata": {},
   "source": [
    "## Joining and filtering"
   ]
  },
  {
   "cell_type": "code",
   "execution_count": 67,
   "metadata": {},
   "outputs": [
    {
     "name": "stdout",
     "output_type": "stream",
     "text": [
      "  unique_key created_date agency complaint_type incident_zip  \\\n",
      "0   38074305   01/01/2018    HPD     WATER LEAK        11212   \n",
      "1   38078748   01/01/2018    HPD     WATER LEAK        10458   \n",
      "2   38081097   01/01/2018    HPD     WATER LEAK        11221   \n",
      "3   38077874   01/01/2018    HPD     WATER LEAK        11418   \n",
      "4   38081110   01/01/2018    HPD     WATER LEAK        11420   \n",
      "\n",
      "          incident_address community_board   borough  prcp  \n",
      "0     1026 WILLMOHR STREET     17 BROOKLYN  BROOKLYN   0.0  \n",
      "1       2700 MARION AVENUE        07 BRONX     BRONX   0.0  \n",
      "2  192 MALCOLM X BOULEVARD     03 BROOKLYN  BROOKLYN   0.0  \n",
      "3    129-11 JAMAICA AVENUE       09 QUEENS    QUEENS   0.0  \n",
      "4        111-17 133 STREET       10 QUEENS    QUEENS   0.0  \n"
     ]
    }
   ],
   "source": [
    "# Query to get water leak calls and daily precipitation\n",
    "query = \"\"\"\n",
    "SELECT hpd311calls.*, weather.prcp\n",
    "  FROM hpd311calls\n",
    "  JOIN weather\n",
    "    ON hpd311calls.created_date = weather.date\n",
    "  where hpd311calls.complaint_type = 'WATER LEAK';\"\"\"\n",
    "\n",
    "# Load query results into the leak_calls data frame\n",
    "leak_calls = pd.read_sql(query, engine)\n",
    "\n",
    "# View the data frame\n",
    "print(leak_calls.head())"
   ]
  },
  {
   "cell_type": "code",
   "execution_count": 68,
   "metadata": {},
   "outputs": [
    {
     "name": "stdout",
     "output_type": "stream",
     "text": [
      "  created_date  COUNT(*)\n",
      "0   01/01/2018      4597\n",
      "1   01/02/2018      4362\n",
      "2   01/03/2018      3045\n",
      "3   01/04/2018      3374\n",
      "4   01/05/2018      4333\n"
     ]
    }
   ],
   "source": [
    "# Query to get heat/hot water call counts by created_date\n",
    "query = \"\"\"\n",
    "SELECT hpd311calls.created_date, \n",
    "       COUNT(*)\n",
    "  FROM hpd311calls \n",
    " WHERE hpd311calls.complaint_type = 'HEAT/HOT WATER' \n",
    " GROUP BY hpd311calls.created_date;\n",
    "\"\"\"\n",
    "\n",
    "# Query database and save results as df\n",
    "df = pd.read_sql(query, engine)\n",
    "\n",
    "# View first 5 records\n",
    "print(df.head())"
   ]
  },
  {
   "cell_type": "code",
   "execution_count": 69,
   "metadata": {},
   "outputs": [
    {
     "name": "stdout",
     "output_type": "stream",
     "text": [
      "  created_date  COUNT(*)  tmax  tmin\n",
      "0   01/01/2018      4597    19     7\n",
      "1   01/02/2018      4362    26    13\n",
      "2   01/03/2018      3045    30    16\n",
      "3   01/04/2018      3374    29    19\n",
      "4   01/05/2018      4333    19     9\n"
     ]
    }
   ],
   "source": [
    "# Modify query to join tmax and tmin from weather by date\n",
    "query = \"\"\"\n",
    "SELECT hpd311calls.created_date, \n",
    "       COUNT(*), \n",
    "       weather.tmax, \n",
    "       weather.tmin\n",
    "  FROM hpd311calls \n",
    "       JOIN weather \n",
    "       ON hpd311calls.created_date = weather.date\n",
    " WHERE hpd311calls.complaint_type = 'HEAT/HOT WATER' \n",
    " GROUP BY hpd311calls.created_date;\n",
    " \"\"\"\n",
    "\n",
    "# Query database and save results as df\n",
    "df = pd.read_sql(query, engine)\n",
    "\n",
    "# View first 5 records\n",
    "print(df.head())"
   ]
  },
  {
   "cell_type": "markdown",
   "metadata": {},
   "source": [
    "# Introduction to JSON\n",
    "## Load JSON data\n",
    "Many open data portals make available JSONs datasets that are particularly easy to parse. They can be accessed directly via URL. Each object is a record, all objects have the same set of attributes, and none of the values are nested objects that themselves need to be parsed."
   ]
  },
  {
   "cell_type": "code",
   "execution_count": null,
   "metadata": {},
   "outputs": [],
   "source": [
    "# Load pandas as pd\n",
    "import pandas as pd \n",
    "\n",
    "# Load the daily report to a data frame\n",
    "pop_in_shelters = pd.read_json(\"dhs_daily_report.json\")\n",
    "\n",
    "# View summary stats about pop_in_shelters\n",
    "print(pop_in_shelters.describe())"
   ]
  },
  {
   "cell_type": "markdown",
   "metadata": {},
   "source": [
    "When getting data from a URL, like with open data portals, be mindful of how much data is being pulled and how often you do it. Requesting lots of data can strain shared resources.\n",
    "##  Work with JSON orientations\n",
    "JSON isn't a tabular format, so pandas makes assumptions about its orientation when loading data. Most JSON data you encounter will be in orientations that pandas can automatically transform into a data frame.\n",
    "\n",
    "Sometimes, like in this modified version of the Department of Homeless Services Daily Report, data is oriented differently. To reduce the file size, it has been split formatted. You'll see what happens when you try to load it normally versus with the orient keyword argument. The try/except block will alert you if there are errors loading the data."
   ]
  },
  {
   "cell_type": "code",
   "execution_count": null,
   "metadata": {},
   "outputs": [],
   "source": [
    "try:\n",
    "    # Load the JSON without keyword arguments\n",
    "    df = pd.read_json(\"dhs_report_reformatted.json\")\n",
    "    # Plot total population in shelters over time\n",
    "    df[\"date_of_census\"] = pd.to_datetime(df[\"date_of_census\"])\n",
    "    df.plot(x=\"date_of_census\", \n",
    "            y=\"total_individuals_in_shelter\")\n",
    "    plt.show()\n",
    "    \n",
    "except ValueError:\n",
    "    print(\"pandas could not parse the JSON.\")"
   ]
  },
  {
   "cell_type": "code",
   "execution_count": null,
   "metadata": {},
   "outputs": [],
   "source": [
    "try:\n",
    "    # Load the JSON with orient specified\n",
    "    df = pd.read_json(\"dhs_report_reformatted.json\",\n",
    "                      orient='split')\n",
    "    \n",
    "    # Plot total population in shelters over time\n",
    "    df[\"date_of_census\"] = pd.to_datetime(df[\"date_of_census\"])\n",
    "    df.plot(x=\"date_of_census\", \n",
    "            y=\"total_individuals_in_shelter\")\n",
    "    plt.show()\n",
    "    \n",
    "except ValueError:\n",
    "    print(\"pandas could not parse the JSON.\")"
   ]
  },
  {
   "cell_type": "markdown",
   "metadata": {},
   "source": [
    "# Introduction to APIs\n",
    "\n",
    "1. Introduction to APIs\n",
    "\n",
    "You now know how to load JSON data into pandas, given a path or URL to a JSON file. In this lesson, we'll turn our attention to working with web application programming interfaces, or APIs, the most common source of JSON data.\n",
    "\n",
    "2. Application Programming Interfaces\n",
    "\n",
    "An application programming interface is a defined way for an application to communicate with other programs, and vice versa. They let programmers get data from an application without having to know about that application's database architecture. One caveat -- APIs are shared resources, and often limit how much data you can get in a specified timeframe. Using an API to get data is like using a catalog to order products. The catalog shows what's available and provides order instructions.\n",
    "\n",
    "3. Application Programming Interfaces\n",
    "\n",
    "You send a properly formed order to the right address\n",
    "\n",
    "4. Application Programming Interfaces\n",
    "\n",
    "and get back what you asked for. Similarly, an API provides an endpoint to send requests to, and documentation describes what a request should look like, such as parameters to include.\n",
    "\n",
    "5. Requests\n",
    "\n",
    "While there are Python libraries geared towards popular APIs, we'll use the Requests library in this course. Requests lets users send and get data from any URL, so it's not tied to any particular API. The function to retrieve data from a URL, logically, is requests get.\n",
    "\n",
    "\n",
    "6. requests.get()\n",
    "\n",
    "Requests get takes a string of the URL to get data from, and has optional keyword arguments that are useful for working with APIs. The params keyword lets you pass a dictionary of parameter names and values to customize API requests. The headers keyword also takes a dictionary of names and values. If the API you're using requires a user authentication key, it would be passed in the header. The result is a response object, containing data and metadata. We need to use the response's JSON method to get just the data.\n",
    "\n",
    "7. response.json() and pandas\n",
    "\n",
    "Importantly, the JSON method returns a dictionary, which read JSON can't parse -- it expects a string. To load the data to a data frame, we need to use pd DataFrame instead.\n"
   ]
  },
  {
   "cell_type": "code",
   "execution_count": null,
   "metadata": {},
   "outputs": [],
   "source": [
    "api_url = \"https://api.yelp.com/v3/businesses/search\"\n",
    "\n",
    "# Get data about NYC cafes from the Yelp API\n",
    "response = requests.get(api_url, \n",
    "                headers=headers, \n",
    "                params=params)\n",
    "\n",
    "# Extract JSON data from the response\n",
    "data = response.json()\n",
    "\n",
    "# Load data to a data frame\n",
    "cafes = pd.DataFrame(data['businesses'])\n",
    "\n",
    "# View the data's dtypes\n",
    "print(cafes.dtypes)"
   ]
  },
  {
   "cell_type": "code",
   "execution_count": null,
   "metadata": {},
   "outputs": [],
   "source": [
    "# Create dictionary to query API for cafes in NYC\n",
    "parameters = {\"term\": \"cafe\",\n",
    "          \t  \"location\": \"NYC\"}\n",
    "\n",
    "# Query the Yelp API with headers and params set\n",
    "response = requests.get(api_url, \n",
    "                        headers=headers, \n",
    "                        params=parameters)\n",
    "\n",
    "# Extract JSON data from response\n",
    "data = response.json()\n",
    "\n",
    "# Load \"businesses\" values to a data frame and print head\n",
    "cafes = pd.DataFrame(data[\"businesses\"])\n",
    "print(cafes.head())"
   ]
  },
  {
   "cell_type": "markdown",
   "metadata": {},
   "source": [
    "Great work! Notice that some of the values are themselves dictionaries, making them hard to analyze. We'll learn how to unpack those in a later lesson.\n",
    "# Set request headers\n",
    "Many APIs require users provide an API key, obtained by registering for the service. Keys typically are passed in the request header, rather than as parameters."
   ]
  },
  {
   "cell_type": "code",
   "execution_count": null,
   "metadata": {},
   "outputs": [],
   "source": [
    "# Create dictionary that passes Authorization and key string\n",
    "headers = {\"Authorization\": \"Bearer {}\".format(api_key)}\n",
    "\n",
    "# Query the Yelp API with headers and params set\n",
    "response = requests.get(api_url, \n",
    "                        headers=headers, \n",
    "                        params=params)\n",
    "\n",
    "# Extract JSON data from response\n",
    "data = response.json()\n",
    "\n",
    "# Load \"businesses\" values to a data frame and print names\n",
    "cafes = pd.DataFrame(data[\"businesses\"])\n",
    "print(cafes.name)"
   ]
  },
  {
   "cell_type": "markdown",
   "metadata": {},
   "source": [
    "# Working with nested JSONs\n",
    "## Flatten nested JSONs\n",
    "A feature of JSON data is that it can be nested: an attribute's value can consist of attribute-value pairs. This nested data is more useful unpacked, or flattened, into its own data frame columns. The pandas.io.json submodule has a function, json_normalize(), that does exactly this.\n",
    "\n",
    "The Yelp API response data is nested. Your job is to flatten out the next level of data in the coordinates and location columns.\n",
    "\n",
    "pandas (as pd) and requests have been imported. The results of the API call are stored as response\n"
   ]
  },
  {
   "cell_type": "code",
   "execution_count": null,
   "metadata": {},
   "outputs": [],
   "source": [
    "# Load json_normalize()\n",
    "from pandas.io.json import json_normalize\n",
    "# Isolate the JSON data from the API response\n",
    "data = response.json()\n",
    "# Flatten business data into a data frame, replace separator\n",
    "cafes = json_normalize(data[\"businesses\"],\n",
    "             sep='_')\n",
    "# View data\n",
    "print(cafes.head())"
   ]
  },
  {
   "cell_type": "markdown",
   "metadata": {},
   "source": [
    "# Handle deeply nested data\n",
    "Last exercise, you flattened data nested down one level. Here, you'll unpack more deeply nested data.\n",
    "\n",
    "The categories attribute in the Yelp API response contains lists of objects. To flatten this data, you'll employ json_normalize() arguments to specify the path to categories and pick other attributes to include in the data frame. You should also change the separator to facilitate column selection and prefix the other attributes to prevent column name collisions. We'll work through this in steps."
   ]
  },
  {
   "cell_type": "code",
   "execution_count": null,
   "metadata": {},
   "outputs": [],
   "source": [
    "# Load other business attributes and set meta prefix\n",
    "flat_cafes = json_normalize(data[\"businesses\"],\n",
    "                            sep=\"_\",\n",
    "                    \t\trecord_path=\"categories\",\n",
    "                    \t\tmeta=[\"name\", \n",
    "                                  \"alias\",  \n",
    "                                  \"rating\",\n",
    "                          \t\t  [\"coordinates\", \"latitude\"], \n",
    "                          \t\t  [\"coordinates\", \"longitude\"]],\n",
    "                    \t\tmeta_prefix=\"biz_\")\n",
    "# View the data\n",
    "print(flat_cafes.head())"
   ]
  },
  {
   "cell_type": "markdown",
   "metadata": {},
   "source": [
    "# Combining multiple datasets\n",
    "## Append data frames\n",
    "In this exercise, you’ll practice appending records by creating a dataset of the 100 highest-rated cafes in New York City according to Yelp.\n",
    "\n",
    "APIs often limit the amount of data returned, since sending large datasets can be time- and resource-intensive. The Yelp Business Search API limits the results returned in a call to 50 records. However, the offset parameter lets a user retrieve results starting after a specified number. By modifying the offset, we can get results 1-50 in one call and 51-100 in another. Then, we can append the data frames.\n",
    "pandas (as pd), requests, and json_normalize() have been imported. The 50 top-rated cafes are already in a data frame, top_50_cafes."
   ]
  },
  {
   "cell_type": "code",
   "execution_count": null,
   "metadata": {},
   "outputs": [],
   "source": [
    "# Add an offset parameter to get cafes 51-100\n",
    "params = {\"term\": \"cafe\", \n",
    "          \"location\": \"NYC\",\n",
    "          \"sort_by\": \"rating\", \n",
    "          \"limit\": 50,\n",
    "          \"offset\": 50}\n",
    "\n",
    "result = requests.get(api_url, headers=headers, params=params)\n",
    "next_50_cafes = json_normalize(result.json()[\"businesses\"])\n",
    "\n",
    "# Append the results, setting ignore_index to renumber rows\n",
    "cafes = top_50_cafes.append(next_50_cafes, ignore_index=True)\n",
    "\n",
    "# Print shape of cafes\n",
    "print(cafes.shape)"
   ]
  },
  {
   "cell_type": "markdown",
   "metadata": {},
   "source": [
    "## Merge data frames"
   ]
  },
  {
   "cell_type": "code",
   "execution_count": null,
   "metadata": {},
   "outputs": [],
   "source": [
    "# Merge crosswalk into cafes on their zip code fields\n",
    "cafes_with_pumas = cafes.merge(crosswalk, \n",
    "                   \t\t\t   left_on=\"location_zip_code\", \n",
    "                               right_on=\"zipcode\")\n",
    "\n",
    "# Merge pop_data into cafes_with_pumas on puma field\n",
    "cafes_with_pop = cafes_with_pumas.merge(pop_data, on=\"puma\")\n",
    "\n",
    "# View the data\n",
    "print(cafes_with_pop.head())"
   ]
  },
  {
   "cell_type": "code",
   "execution_count": null,
   "metadata": {},
   "outputs": [],
   "source": []
  },
  {
   "cell_type": "code",
   "execution_count": null,
   "metadata": {},
   "outputs": [],
   "source": []
  },
  {
   "cell_type": "code",
   "execution_count": null,
   "metadata": {},
   "outputs": [],
   "source": []
  },
  {
   "cell_type": "code",
   "execution_count": null,
   "metadata": {},
   "outputs": [],
   "source": []
  },
  {
   "cell_type": "code",
   "execution_count": null,
   "metadata": {},
   "outputs": [],
   "source": []
  }
 ],
 "metadata": {
  "kernelspec": {
   "display_name": "Python 3",
   "language": "python",
   "name": "python3"
  },
  "language_info": {
   "codemirror_mode": {
    "name": "ipython",
    "version": 3
   },
   "file_extension": ".py",
   "mimetype": "text/x-python",
   "name": "python",
   "nbconvert_exporter": "python",
   "pygments_lexer": "ipython3",
   "version": "3.7.6"
  }
 },
 "nbformat": 4,
 "nbformat_minor": 4
}
